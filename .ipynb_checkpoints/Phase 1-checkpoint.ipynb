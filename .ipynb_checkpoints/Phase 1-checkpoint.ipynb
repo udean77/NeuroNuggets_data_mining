{
 "cells": [
  {
   "cell_type": "markdown",
   "id": "e19f4176-f392-4493-9570-a567eee2e62e",
   "metadata": {},
   "source": [
    "Phase 1 : Data Exploration"
   ]
  },
  {
   "cell_type": "markdown",
   "id": "64e09c4d-d97e-4022-b258-642915831978",
   "metadata": {},
   "source": [
    "1. Install library"
   ]
  },
  {
   "cell_type": "code",
   "execution_count": 1,
   "id": "fcd18bb6-8ee8-4628-99db-e1e6b18110bc",
   "metadata": {
    "scrolled": true
   },
   "outputs": [
    {
     "name": "stdout",
     "output_type": "stream",
     "text": [
      "Requirement already satisfied: pandas in c:\\users\\lenovo loq\\appdata\\local\\programs\\python\\python312\\lib\\site-packages (2.2.3)\n",
      "Requirement already satisfied: numpy in c:\\users\\lenovo loq\\appdata\\local\\programs\\python\\python312\\lib\\site-packages (2.0.2)\n",
      "Requirement already satisfied: matplotlib in c:\\users\\lenovo loq\\appdata\\local\\programs\\python\\python312\\lib\\site-packages (3.10.1)\n",
      "Requirement already satisfied: seaborn in c:\\users\\lenovo loq\\appdata\\local\\programs\\python\\python312\\lib\\site-packages (0.13.2)\n",
      "Requirement already satisfied: scikit-learn in c:\\users\\lenovo loq\\appdata\\local\\programs\\python\\python312\\lib\\site-packages (1.7.1)\n",
      "Requirement already satisfied: xgboost in c:\\users\\lenovo loq\\appdata\\local\\programs\\python\\python312\\lib\\site-packages (3.0.2)\n",
      "Requirement already satisfied: python-dateutil>=2.8.2 in c:\\users\\lenovo loq\\appdata\\local\\programs\\python\\python312\\lib\\site-packages (from pandas) (2.9.0.post0)\n",
      "Requirement already satisfied: pytz>=2020.1 in c:\\users\\lenovo loq\\appdata\\local\\programs\\python\\python312\\lib\\site-packages (from pandas) (2025.1)\n",
      "Requirement already satisfied: tzdata>=2022.7 in c:\\users\\lenovo loq\\appdata\\local\\programs\\python\\python312\\lib\\site-packages (from pandas) (2025.1)\n",
      "Requirement already satisfied: contourpy>=1.0.1 in c:\\users\\lenovo loq\\appdata\\local\\programs\\python\\python312\\lib\\site-packages (from matplotlib) (1.3.1)\n",
      "Requirement already satisfied: cycler>=0.10 in c:\\users\\lenovo loq\\appdata\\local\\programs\\python\\python312\\lib\\site-packages (from matplotlib) (0.12.1)\n",
      "Requirement already satisfied: fonttools>=4.22.0 in c:\\users\\lenovo loq\\appdata\\local\\programs\\python\\python312\\lib\\site-packages (from matplotlib) (4.56.0)\n",
      "Requirement already satisfied: kiwisolver>=1.3.1 in c:\\users\\lenovo loq\\appdata\\local\\programs\\python\\python312\\lib\\site-packages (from matplotlib) (1.4.8)\n",
      "Requirement already satisfied: packaging>=20.0 in c:\\users\\lenovo loq\\appdata\\local\\programs\\python\\python312\\lib\\site-packages (from matplotlib) (24.2)\n",
      "Requirement already satisfied: pillow>=8 in c:\\users\\lenovo loq\\appdata\\local\\programs\\python\\python312\\lib\\site-packages (from matplotlib) (11.1.0)\n",
      "Requirement already satisfied: pyparsing>=2.3.1 in c:\\users\\lenovo loq\\appdata\\local\\programs\\python\\python312\\lib\\site-packages (from matplotlib) (3.2.1)\n",
      "Requirement already satisfied: scipy>=1.8.0 in c:\\users\\lenovo loq\\appdata\\local\\programs\\python\\python312\\lib\\site-packages (from scikit-learn) (1.15.2)\n",
      "Requirement already satisfied: joblib>=1.2.0 in c:\\users\\lenovo loq\\appdata\\local\\programs\\python\\python312\\lib\\site-packages (from scikit-learn) (1.5.1)\n",
      "Requirement already satisfied: threadpoolctl>=3.1.0 in c:\\users\\lenovo loq\\appdata\\local\\programs\\python\\python312\\lib\\site-packages (from scikit-learn) (3.6.0)\n",
      "Requirement already satisfied: six>=1.5 in c:\\users\\lenovo loq\\appdata\\local\\programs\\python\\python312\\lib\\site-packages (from python-dateutil>=2.8.2->pandas) (1.17.0)\n"
     ]
    },
    {
     "name": "stderr",
     "output_type": "stream",
     "text": [
      "\n",
      "[notice] A new release of pip is available: 24.3.1 -> 25.1.1\n",
      "[notice] To update, run: python.exe -m pip install --upgrade pip\n"
     ]
    }
   ],
   "source": [
    "!pip3 install pandas numpy matplotlib seaborn scikit-learn xgboost"
   ]
  },
  {
   "cell_type": "markdown",
   "id": "fd4f994f-a39f-4b59-b2e0-9e0d3421d96d",
   "metadata": {},
   "source": [
    "2. Load Dataset"
   ]
  },
  {
   "cell_type": "code",
   "execution_count": 2,
   "id": "df56c733-ff06-4937-9df2-88a4175bd642",
   "metadata": {},
   "outputs": [],
   "source": [
    "import pandas as pd\n",
    "import seaborn as sns\n",
    "import matplotlib.pyplot as plt\n",
    "\n",
    "df = pd.read_csv(\"data/train.csv\", parse_dates=[\"Date\"], low_memory=False)\n"
   ]
  },
  {
   "cell_type": "markdown",
   "id": "85b4789a-628f-4021-ab70-8ccb45737fbc",
   "metadata": {},
   "source": [
    "3. Exploratory Data Analysis (EDA)"
   ]
  },
  {
   "cell_type": "code",
   "execution_count": 3,
   "id": "74788d4e-f4ec-408c-b69e-a1df39fcf9e5",
   "metadata": {
    "scrolled": true
   },
   "outputs": [
    {
     "name": "stdout",
     "output_type": "stream",
     "text": [
      "✅ Statistik deskriptif:\n"
     ]
    },
    {
     "data": {
      "text/html": [
       "<div>\n",
       "<style scoped>\n",
       "    .dataframe tbody tr th:only-of-type {\n",
       "        vertical-align: middle;\n",
       "    }\n",
       "\n",
       "    .dataframe tbody tr th {\n",
       "        vertical-align: top;\n",
       "    }\n",
       "\n",
       "    .dataframe thead th {\n",
       "        text-align: right;\n",
       "    }\n",
       "</style>\n",
       "<table border=\"1\" class=\"dataframe\">\n",
       "  <thead>\n",
       "    <tr style=\"text-align: right;\">\n",
       "      <th></th>\n",
       "      <th>Store</th>\n",
       "      <th>DayOfWeek</th>\n",
       "      <th>Date</th>\n",
       "      <th>Sales</th>\n",
       "      <th>Customers</th>\n",
       "      <th>Open</th>\n",
       "      <th>Promo</th>\n",
       "      <th>SchoolHoliday</th>\n",
       "    </tr>\n",
       "  </thead>\n",
       "  <tbody>\n",
       "    <tr>\n",
       "      <th>count</th>\n",
       "      <td>1.017209e+06</td>\n",
       "      <td>1.017209e+06</td>\n",
       "      <td>1017209</td>\n",
       "      <td>1.017209e+06</td>\n",
       "      <td>1.017209e+06</td>\n",
       "      <td>1.017209e+06</td>\n",
       "      <td>1.017209e+06</td>\n",
       "      <td>1.017209e+06</td>\n",
       "    </tr>\n",
       "    <tr>\n",
       "      <th>mean</th>\n",
       "      <td>5.584297e+02</td>\n",
       "      <td>3.998341e+00</td>\n",
       "      <td>2014-04-11 01:30:42.846061824</td>\n",
       "      <td>5.773819e+03</td>\n",
       "      <td>6.331459e+02</td>\n",
       "      <td>8.301067e-01</td>\n",
       "      <td>3.815145e-01</td>\n",
       "      <td>1.786467e-01</td>\n",
       "    </tr>\n",
       "    <tr>\n",
       "      <th>min</th>\n",
       "      <td>1.000000e+00</td>\n",
       "      <td>1.000000e+00</td>\n",
       "      <td>2013-01-01 00:00:00</td>\n",
       "      <td>0.000000e+00</td>\n",
       "      <td>0.000000e+00</td>\n",
       "      <td>0.000000e+00</td>\n",
       "      <td>0.000000e+00</td>\n",
       "      <td>0.000000e+00</td>\n",
       "    </tr>\n",
       "    <tr>\n",
       "      <th>25%</th>\n",
       "      <td>2.800000e+02</td>\n",
       "      <td>2.000000e+00</td>\n",
       "      <td>2013-08-17 00:00:00</td>\n",
       "      <td>3.727000e+03</td>\n",
       "      <td>4.050000e+02</td>\n",
       "      <td>1.000000e+00</td>\n",
       "      <td>0.000000e+00</td>\n",
       "      <td>0.000000e+00</td>\n",
       "    </tr>\n",
       "    <tr>\n",
       "      <th>50%</th>\n",
       "      <td>5.580000e+02</td>\n",
       "      <td>4.000000e+00</td>\n",
       "      <td>2014-04-02 00:00:00</td>\n",
       "      <td>5.744000e+03</td>\n",
       "      <td>6.090000e+02</td>\n",
       "      <td>1.000000e+00</td>\n",
       "      <td>0.000000e+00</td>\n",
       "      <td>0.000000e+00</td>\n",
       "    </tr>\n",
       "    <tr>\n",
       "      <th>75%</th>\n",
       "      <td>8.380000e+02</td>\n",
       "      <td>6.000000e+00</td>\n",
       "      <td>2014-12-12 00:00:00</td>\n",
       "      <td>7.856000e+03</td>\n",
       "      <td>8.370000e+02</td>\n",
       "      <td>1.000000e+00</td>\n",
       "      <td>1.000000e+00</td>\n",
       "      <td>0.000000e+00</td>\n",
       "    </tr>\n",
       "    <tr>\n",
       "      <th>max</th>\n",
       "      <td>1.115000e+03</td>\n",
       "      <td>7.000000e+00</td>\n",
       "      <td>2015-07-31 00:00:00</td>\n",
       "      <td>4.155100e+04</td>\n",
       "      <td>7.388000e+03</td>\n",
       "      <td>1.000000e+00</td>\n",
       "      <td>1.000000e+00</td>\n",
       "      <td>1.000000e+00</td>\n",
       "    </tr>\n",
       "    <tr>\n",
       "      <th>std</th>\n",
       "      <td>3.219087e+02</td>\n",
       "      <td>1.997391e+00</td>\n",
       "      <td>NaN</td>\n",
       "      <td>3.849926e+03</td>\n",
       "      <td>4.644117e+02</td>\n",
       "      <td>3.755392e-01</td>\n",
       "      <td>4.857586e-01</td>\n",
       "      <td>3.830564e-01</td>\n",
       "    </tr>\n",
       "  </tbody>\n",
       "</table>\n",
       "</div>"
      ],
      "text/plain": [
       "              Store     DayOfWeek                           Date  \\\n",
       "count  1.017209e+06  1.017209e+06                        1017209   \n",
       "mean   5.584297e+02  3.998341e+00  2014-04-11 01:30:42.846061824   \n",
       "min    1.000000e+00  1.000000e+00            2013-01-01 00:00:00   \n",
       "25%    2.800000e+02  2.000000e+00            2013-08-17 00:00:00   \n",
       "50%    5.580000e+02  4.000000e+00            2014-04-02 00:00:00   \n",
       "75%    8.380000e+02  6.000000e+00            2014-12-12 00:00:00   \n",
       "max    1.115000e+03  7.000000e+00            2015-07-31 00:00:00   \n",
       "std    3.219087e+02  1.997391e+00                            NaN   \n",
       "\n",
       "              Sales     Customers          Open         Promo  SchoolHoliday  \n",
       "count  1.017209e+06  1.017209e+06  1.017209e+06  1.017209e+06   1.017209e+06  \n",
       "mean   5.773819e+03  6.331459e+02  8.301067e-01  3.815145e-01   1.786467e-01  \n",
       "min    0.000000e+00  0.000000e+00  0.000000e+00  0.000000e+00   0.000000e+00  \n",
       "25%    3.727000e+03  4.050000e+02  1.000000e+00  0.000000e+00   0.000000e+00  \n",
       "50%    5.744000e+03  6.090000e+02  1.000000e+00  0.000000e+00   0.000000e+00  \n",
       "75%    7.856000e+03  8.370000e+02  1.000000e+00  1.000000e+00   0.000000e+00  \n",
       "max    4.155100e+04  7.388000e+03  1.000000e+00  1.000000e+00   1.000000e+00  \n",
       "std    3.849926e+03  4.644117e+02  3.755392e-01  4.857586e-01   3.830564e-01  "
      ]
     },
     "metadata": {},
     "output_type": "display_data"
    },
    {
     "name": "stdout",
     "output_type": "stream",
     "text": [
      "\n",
      "🧩 Cek missing values:\n"
     ]
    },
    {
     "data": {
      "text/plain": [
       "Store            0\n",
       "DayOfWeek        0\n",
       "Date             0\n",
       "Sales            0\n",
       "Customers        0\n",
       "Open             0\n",
       "Promo            0\n",
       "StateHoliday     0\n",
       "SchoolHoliday    0\n",
       "dtype: int64"
      ]
     },
     "metadata": {},
     "output_type": "display_data"
    },
    {
     "name": "stdout",
     "output_type": "stream",
     "text": [
      "\n",
      "🏪 Jumlah toko unik: 1115\n",
      "📅 Rentang tanggal: 2013-01-01 sampai 2015-07-31\n"
     ]
    }
   ],
   "source": [
    "print(\"\\u2705 Statistik deskriptif:\")#Exploratory Data Analysis (EDA)\n",
    "display(df.describe())\n",
    "\n",
    "print(\"\\n\\U0001F9E9 Cek missing values:\")\n",
    "display(df.isnull().sum())\n",
    "\n",
    "print(f\"\\n\\U0001F3EA Jumlah toko unik: {df['Store'].nunique()}\")\n",
    "print(f\"\\U0001F4C5 Rentang tanggal: {df['Date'].min().date()} sampai {df['Date'].max().date()}\")"
   ]
  },
  {
   "cell_type": "markdown",
   "id": "9895445f-c3ab-41e6-b373-e846b950eb6c",
   "metadata": {},
   "source": [
    "3. Data Quality Check"
   ]
  },
  {
   "cell_type": "code",
   "execution_count": 4,
   "id": "7d1a11d6",
   "metadata": {},
   "outputs": [
    {
     "name": "stdout",
     "output_type": "stream",
     "text": [
      "\n",
      "🔧 Cek duplikasi:\n",
      "Jumlah baris duplikat: 0\n",
      "\n",
      "🔎 Cek nilai negatif pada kolom numerik:\n"
     ]
    }
   ],
   "source": [
    "print(\"\\n\\U0001F527 Cek duplikasi:\")\n",
    "duplicated_rows = df.duplicated().sum()\n",
    "print(f\"Jumlah baris duplikat: {duplicated_rows}\")\n",
    "\n",
    "print(\"\\n\\U0001F50E Cek nilai negatif pada kolom numerik:\")\n",
    "numeric_cols = df.select_dtypes(include='number').columns\n",
    "for col in numeric_cols:\n",
    "    num_neg = (df[col] < 0).sum()\n",
    "    if num_neg > 0:\n",
    "        print(f\"{col}: {num_neg} nilai negatif\")\n"
   ]
  },
  {
   "cell_type": "markdown",
   "id": "8f09ec78-0b2d-4dfe-a73d-68657ae3440d",
   "metadata": {},
   "source": [
    "Phase 2: Feature Engineering"
   ]
  },
  {
   "cell_type": "markdown",
   "id": "a26e072d-43a1-4375-be12-b66a647ce539",
   "metadata": {},
   "source": [
    "1. Load data hasil merge dari phase 1"
   ]
  },
  {
   "cell_type": "code",
   "execution_count": 5,
   "id": "041f9924-65b4-4b88-a445-b5f82c26e023",
   "metadata": {},
   "outputs": [
    {
     "name": "stdout",
     "output_type": "stream",
     "text": [
      "   Store  DayOfWeek       Date  Sales  Customers  Open  Promo StateHoliday  \\\n",
      "0      1          4 2015-07-31   5263        555     1      1            0   \n",
      "1      2          4 2015-07-31   6064        625     1      1            0   \n",
      "2      3          4 2015-07-31   8314        821     1      1            0   \n",
      "3      4          4 2015-07-31  13995       1498     1      1            0   \n",
      "4      5          4 2015-07-31   4822        559     1      1            0   \n",
      "\n",
      "   SchoolHoliday StoreType  ...    PromoInterval  Year  Month  Day  IsWeekend  \\\n",
      "0              1         c  ...              NaN  2015      7   31          0   \n",
      "1              1         a  ...  Jan,Apr,Jul,Oct  2015      7   31          0   \n",
      "2              1         a  ...  Jan,Apr,Jul,Oct  2015      7   31          0   \n",
      "3              1         c  ...              NaN  2015      7   31          0   \n",
      "4              1         a  ...              NaN  2015      7   31          0   \n",
      "\n",
      "   StoreType_enc  Assortment_enc StateHoliday_enc  Promo_StoreType  \\\n",
      "0              2               0                0                2   \n",
      "1              0               0                0                0   \n",
      "2              0               0                0                0   \n",
      "3              2               2                0                2   \n",
      "4              0               0                0                0   \n",
      "\n",
      "   Competition_Promo  \n",
      "0             1270.0  \n",
      "1              570.0  \n",
      "2            14130.0  \n",
      "3              620.0  \n",
      "4            29910.0  \n",
      "\n",
      "[5 rows x 27 columns]\n"
     ]
    }
   ],
   "source": [
    "import pandas as pd\n",
    "\n",
    "# Load data train dan store\n",
    "train = pd.read_csv(\"data/train.csv\", parse_dates=[\"Date\"], low_memory=False)\n",
    "store = pd.read_csv(\"data/store.csv\")\n",
    "\n",
    "# Merge data\n",
    "df = pd.merge(train, store, on='Store')\n",
    "\n",
    "# Temporal features\n",
    "df['Year'] = df['Date'].dt.year\n",
    "df['Month'] = df['Date'].dt.month\n",
    "df['Day'] = df['Date'].dt.day\n",
    "df['DayOfWeek'] = df['Date'].dt.dayofweek\n",
    "df['IsWeekend'] = df['DayOfWeek'].isin([5,6]).astype(int)\n",
    "\n",
    "# 2. Handle categorical variables\n",
    "df['StoreType_enc'] = df['StoreType'].astype('category').cat.codes\n",
    "df['Assortment_enc'] = df['Assortment'].astype('category').cat.codes\n",
    "df['StateHoliday_enc'] = df['StateHoliday'].astype('category').cat.codes\n",
    "\n",
    "\n",
    "# 3. Create interaction features\n",
    "df['Promo_StoreType'] = df['Promo'] * df['StoreType_enc']\n",
    "df['Competition_Promo'] = df['CompetitionDistance'] * df['Promo']\n",
    "\n",
    "# Cek hasil feature engineering\n",
    "print(df.head())"
   ]
  },
  {
   "cell_type": "markdown",
   "id": "73910dca-4c4a-4f94-8e37-6d85cb3260b3",
   "metadata": {},
   "source": [
    "2. Create temporal features \n",
    "  Ekstraksi fitur waktu dari kolom `Date`, seperti `Year`, `Month`, `Day`, dan `DayOfWeek`. Fitur ini membantu model memahami pola musiman, tren mingguan, serta efek hari libur terhadap penjualan.\n"
   ]
  },
  {
   "cell_type": "code",
   "execution_count": 6,
   "id": "668497d5-934e-4661-937a-254d13c0576b",
   "metadata": {},
   "outputs": [
    {
     "name": "stdout",
     "output_type": "stream",
     "text": [
      "        Date  Year  Month  Day  DayOfWeek  IsWeekend\n",
      "0 2015-07-31  2015      7   31          4          0\n",
      "1 2015-07-31  2015      7   31          4          0\n",
      "2 2015-07-31  2015      7   31          4          0\n",
      "3 2015-07-31  2015      7   31          4          0\n",
      "4 2015-07-31  2015      7   31          4          0\n"
     ]
    }
   ],
   "source": [
    "df['Year'] = df['Date'].dt.year\n",
    "df['Month'] = df['Date'].dt.month\n",
    "df['Day'] = df['Date'].dt.day\n",
    "df['DayOfWeek'] = df['Date'].dt.dayofweek\n",
    "df['IsWeekend'] = df['DayOfWeek'].isin([5,6]).astype(int)\n",
    "\n",
    "print(df[['Date', 'Year', 'Month', 'Day', 'DayOfWeek', 'IsWeekend']].head())"
   ]
  },
  {
   "cell_type": "markdown",
   "id": "918b5844-9dbe-44a7-b398-79f7d6240d54",
   "metadata": {},
   "source": [
    "Fitur-fitur ini membantu model memahami pengaruh waktu terhadap penjualan, seperti efek musim, hari libur, dan pola mingguan."
   ]
  },
  {
   "cell_type": "markdown",
   "id": "ea2d0e85-aea1-4dfb-b251-ba914e28eb3d",
   "metadata": {},
   "source": [
    "3. Handle categorical variables\n",
    "Mengubah fitur kategori menjadi bentuk numerik agar bisa diproses oleh algoritma machine learning."
   ]
  },
  {
   "cell_type": "code",
   "execution_count": 7,
   "id": "8ed30d6f-527f-481b-81bd-3f734549b99f",
   "metadata": {},
   "outputs": [
    {
     "name": "stdout",
     "output_type": "stream",
     "text": [
      "  StoreType  StoreType_enc Assortment  Assortment_enc StateHoliday  \\\n",
      "0         c              2          a               0            0   \n",
      "1         a              0          a               0            0   \n",
      "2         a              0          a               0            0   \n",
      "3         c              2          c               2            0   \n",
      "4         a              0          a               0            0   \n",
      "\n",
      "   StateHoliday_enc  \n",
      "0                 0  \n",
      "1                 0  \n",
      "2                 0  \n",
      "3                 0  \n",
      "4                 0  \n"
     ]
    }
   ],
   "source": [
    "df['StoreType_enc'] = df['StoreType'].astype('category').cat.codes\n",
    "df['Assortment_enc'] = df['Assortment'].astype('category').cat.codes\n",
    "df['StateHoliday_enc'] = df['StateHoliday'].astype('category').cat.codes\n",
    "\n",
    "print(df[['StoreType', 'StoreType_enc', 'Assortment', 'Assortment_enc', 'StateHoliday', 'StateHoliday_enc']].head())"
   ]
  },
  {
   "cell_type": "markdown",
   "id": "8aaea843-9947-48d1-9e1f-158e0e44ffb7",
   "metadata": {},
   "source": [
    "Encoding fitur kategori seperti StoreType, Assortment, dan StateHoliday ke bentuk numerik agar model dapat memanfaatkan informasi kategori dengan optimal."
   ]
  },
  {
   "cell_type": "markdown",
   "id": "577afe21-c06c-4ac7-9ebc-64a6a3a229dd",
   "metadata": {},
   "source": [
    "3. Create interaction features\n",
    "Membuat fitur baru dari hasil interaksi antara dua atau lebih variabel, agar model dapat menangkap hubungan kompleks antar fitur."
   ]
  },
  {
   "cell_type": "code",
   "execution_count": 8,
   "id": "90378dac-3a10-4622-a63d-9a11937a3487",
   "metadata": {},
   "outputs": [
    {
     "name": "stdout",
     "output_type": "stream",
     "text": [
      "   Promo  StoreType_enc  Promo_StoreType  CompetitionDistance  \\\n",
      "0      1              2                2               1270.0   \n",
      "1      1              0                0                570.0   \n",
      "2      1              0                0              14130.0   \n",
      "3      1              2                2                620.0   \n",
      "4      1              0                0              29910.0   \n",
      "\n",
      "   Competition_Promo  \n",
      "0             1270.0  \n",
      "1              570.0  \n",
      "2            14130.0  \n",
      "3              620.0  \n",
      "4            29910.0  \n"
     ]
    }
   ],
   "source": [
    "df['Promo_StoreType'] = df['Promo'] * df['StoreType_enc']\n",
    "df['Competition_Promo'] = df['CompetitionDistance'] * df['Promo']\n",
    "\n",
    "print(df[['Promo', 'StoreType_enc', 'Promo_StoreType', 'CompetitionDistance', 'Competition_Promo']].head())"
   ]
  },
  {
   "cell_type": "markdown",
   "id": "f3769238-7f42-47ee-9f12-391e2cdb7f34",
   "metadata": {},
   "source": [
    "Fitur interaksi seperti Promo_StoreType dan Competition_Promo membantu model memahami efek gabungan antara promo, tipe toko, dan kompetisi terhadap penjualan."
   ]
  },
  {
   "cell_type": "markdown",
   "id": "d66a1a20-938d-4f0c-9e67-878a942f6619",
   "metadata": {},
   "source": [
    "3. Feature selection\n",
    "Menghapus fitur yang tidak relevan atau tidak tersedia di data test agar model lebih efisien dan akurat."
   ]
  },
  {
   "cell_type": "code",
   "execution_count": 9,
   "id": "60a1772d-be12-4d12-9959-8cfd339eb0c2",
   "metadata": {},
   "outputs": [
    {
     "name": "stdout",
     "output_type": "stream",
     "text": [
      "   Store  DayOfWeek       Date  Sales  Open  Promo StateHoliday  \\\n",
      "0      1          4 2015-07-31   5263     1      1            0   \n",
      "1      2          4 2015-07-31   6064     1      1            0   \n",
      "2      3          4 2015-07-31   8314     1      1            0   \n",
      "3      4          4 2015-07-31  13995     1      1            0   \n",
      "4      5          4 2015-07-31   4822     1      1            0   \n",
      "\n",
      "   SchoolHoliday StoreType Assortment  ...    PromoInterval  Year  Month  Day  \\\n",
      "0              1         c          a  ...              NaN  2015      7   31   \n",
      "1              1         a          a  ...  Jan,Apr,Jul,Oct  2015      7   31   \n",
      "2              1         a          a  ...  Jan,Apr,Jul,Oct  2015      7   31   \n",
      "3              1         c          c  ...              NaN  2015      7   31   \n",
      "4              1         a          a  ...              NaN  2015      7   31   \n",
      "\n",
      "   IsWeekend  StoreType_enc Assortment_enc  StateHoliday_enc  Promo_StoreType  \\\n",
      "0          0              2              0                 0                2   \n",
      "1          0              0              0                 0                0   \n",
      "2          0              0              0                 0                0   \n",
      "3          0              2              2                 0                2   \n",
      "4          0              0              0                 0                0   \n",
      "\n",
      "   Competition_Promo  \n",
      "0             1270.0  \n",
      "1              570.0  \n",
      "2            14130.0  \n",
      "3              620.0  \n",
      "4            29910.0  \n",
      "\n",
      "[5 rows x 26 columns]\n"
     ]
    }
   ],
   "source": [
    "drop_cols = ['Customers']  # misal Customers tidak tersedia di test set\n",
    "df = df.drop(columns=drop_cols, errors='ignore')\n",
    "\n",
    "print(df.head())"
   ]
  },
  {
   "cell_type": "markdown",
   "id": "fcb39a14-5625-4278-8199-96bcfc613e06",
   "metadata": {},
   "source": [
    "Seleksi fitur dilakukan untuk mengurangi noise dan memastikan hanya fitur yang relevan dan tersedia di data test yang digunakan untuk modeling."
   ]
  },
  {
   "cell_type": "markdown",
   "id": "820d4659-fa32-4965-b340-5ddf88b27320",
   "metadata": {},
   "source": [
    "Phase 3: Model Development"
   ]
  },
  {
   "cell_type": "markdown",
   "id": "87a7d908-a6b9-4a15-9559-d4a1ec51b64c",
   "metadata": {},
   "source": [
    "1. Base line Model"
   ]
  },
  {
   "cell_type": "markdown",
   "id": "26302e8e-6f6c-4453-a17b-7a169e527b15",
   "metadata": {},
   "source": [
    "Baseline model menggunakan Linear Regression sebagai langkah awal untuk memprediksi penjualan toko. Model ini dipilih karena sederhana, mudah diinterpretasi, dan dapat memberikan gambaran awal performa prediksi sebelum menggunakan model yang lebih kompleks.\n",
    "\n",
    "Pada tahap ini, fitur-fitur utama seperti informasi waktu, kategori toko, promosi, dan interaksi antar fitur digunakan sebagai input model. Data dengan nilai penjualan (Sales) nol dihapus dari data training dan validasi untuk menghindari error pada perhitungan RMSPE."
   ]
  },
  {
   "cell_type": "code",
   "execution_count": 11,
   "id": "9339c59c",
   "metadata": {},
   "outputs": [
    {
     "name": "stdout",
     "output_type": "stream",
     "text": [
      "\n",
      "📉 Baseline Linear Regression RMSPE: 0.6191326342732548\n",
      "🔍 Contoh prediksi: [5515.82048714 8794.53705028 8650.90805941 7718.09852464 5943.50655146]\n"
     ]
    }
   ],
   "source": [
    "from sklearn.linear_model import LinearRegression\n",
    "from sklearn.model_selection import train_test_split\n",
    "import numpy as np\n",
    "\n",
    "# Daftar fitur yang akan digunakan\n",
    "features = [\n",
    "    'Store', 'DayOfWeek', 'Promo', 'SchoolHoliday', 'Year', 'Month', 'Day',\n",
    "    'IsWeekend', 'StoreType_enc', 'Assortment_enc', 'StateHoliday_enc',\n",
    "    'Promo_StoreType', 'Competition_Promo'\n",
    "]\n",
    "\n",
    "# Siapkan data & target\n",
    "Xy = df[features + ['Sales']].dropna()\n",
    "Xy = Xy[Xy['Sales'] != 0]  # Hilangkan sales nol agar RMSPE valid\n",
    "\n",
    "X = Xy[features]\n",
    "y = Xy['Sales']\n",
    "\n",
    "# Split data\n",
    "X_train, X_val, y_train, y_val = train_test_split(\n",
    "    X.astype(float), y, test_size=0.2, random_state=42\n",
    ")\n",
    "\n",
    "# Inisialisasi dan fit model Linear Regression\n",
    "lr = LinearRegression()\n",
    "lr.fit(X_train, y_train)\n",
    "\n",
    "# Prediksi\n",
    "y_pred = lr.predict(X_val)\n",
    "\n",
    "# RMSPE metric\n",
    "def rmspe(y_true, y_pred):\n",
    "    mask = y_true != 0\n",
    "    return np.sqrt(np.mean(np.square((y_true[mask] - y_pred[mask]) / y_true[mask])))\n",
    "\n",
    "# Evaluasi\n",
    "score = rmspe(y_val, y_pred)\n",
    "print(\"\\n📉 Baseline Linear Regression RMSPE:\", score)\n",
    "print(\"🔍 Contoh prediksi:\", y_pred[:5])\n"
   ]
  },
  {
   "cell_type": "markdown",
   "id": "d96c95aa-8390-4a87-8cfa-bef2767bce22",
   "metadata": {},
   "source": [
    "- RMSPE (Root Mean Square Percentage Error) sebesar 0.619 menunjukkan rata-rata persentase error prediksi model terhadap data validasi. Nilai ini menjadi acuan awal (benchmark) untuk membandingkan model-model berikutnya.\n",
    "  \n",
    "- Contoh prediksi menampilkan hasil prediksi penjualan pada beberapa sampel data validasi. Nilai-nilai ini dapat dibandingkan dengan nilai aktual untuk melihat seberapa dekat hasil prediksi baseline terhadap kenyataan.\n"
   ]
  },
  {
   "cell_type": "markdown",
   "id": "f0788833-9d05-41a7-8e8b-fcde996b810c",
   "metadata": {},
   "source": [
    "2. Hyperparameter Tuning"
   ]
  },
  {
   "cell_type": "markdown",
   "id": "236b422c-5980-40c9-9225-e150ea51170a",
   "metadata": {},
   "source": [
    "Pada tahap ini, dilakukan pencarian kombinasi parameter terbaik untuk model menggunakan teknik seperti Grid Search atau Randomized Search. Hyperparameter tuning bertujuan untuk meningkatkan performa model dengan mengoptimalkan parameter seperti jumlah pohon, kedalaman pohon, dan learning rate pada model Random Forest atau XGBoost."
   ]
  },
  {
   "cell_type": "code",
   "execution_count": 14,
   "id": "faca688b-ebad-4d1b-80e3-30e83962801f",
   "metadata": {},
   "outputs": [
    {
     "name": "stdout",
     "output_type": "stream",
     "text": [
      "Mulai tuning...\n",
      "Fitting 3 folds for each of 5 candidates, totalling 15 fits\n"
     ]
    },
    {
     "name": "stderr",
     "output_type": "stream",
     "text": [
      "C:\\Users\\LENOVO LOQ\\AppData\\Local\\Programs\\Python\\Python312\\Lib\\site-packages\\xgboost\\training.py:183: UserWarning: [18:32:48] WARNING: C:\\actions-runner\\_work\\xgboost\\xgboost\\src\\common\\error_msg.cc:27: The tree method `gpu_hist` is deprecated since 2.0.0. To use GPU training, set the `device` parameter to CUDA instead.\n",
      "\n",
      "    E.g. tree_method = \"hist\", device = \"cuda\"\n",
      "\n",
      "  bst.update(dtrain, iteration=i, fobj=obj)\n",
      "C:\\Users\\LENOVO LOQ\\AppData\\Local\\Programs\\Python\\Python312\\Lib\\site-packages\\xgboost\\training.py:183: UserWarning: [18:32:48] WARNING: C:\\actions-runner\\_work\\xgboost\\xgboost\\src\\learner.cc:738: \n",
      "Parameters: { \"predictor\" } are not used.\n",
      "\n",
      "  bst.update(dtrain, iteration=i, fobj=obj)\n"
     ]
    },
    {
     "name": "stdout",
     "output_type": "stream",
     "text": [
      "Tuning selesai!\n",
      "Best Params: {'n_estimators': 200, 'max_depth': 10, 'learning_rate': 0.1}\n",
      "Best Score (neg RMSE): -1325.6389973958333\n"
     ]
    }
   ],
   "source": [
    "from sklearn.model_selection import train_test_split, RandomizedSearchCV\n",
    "import xgboost as xgb\n",
    "\n",
    "xgb_model = xgb.XGBRegressor(\n",
    "    tree_method='gpu_hist',  # aktifkan GPU\n",
    "    predictor='gpu_predictor',\n",
    "    random_state=42\n",
    ")\n",
    "\n",
    "# Definisikan parameter grid\n",
    "param_dist = {\n",
    "    'n_estimators': [100, 200, 300],\n",
    "    'max_depth': [5, 10, 20],\n",
    "    'learning_rate': [0.01, 0.1, 0.2]\n",
    "}\n",
    "\n",
    "# Randomized Search dengan 3-fold cross-validation\n",
    "random_search = RandomizedSearchCV(\n",
    "    xgb_model,\n",
    "    param_distributions=param_dist,\n",
    "    n_iter=5,\n",
    "    scoring='neg_root_mean_squared_error',\n",
    "    cv=3,\n",
    "    random_state=42,\n",
    "    n_jobs=-1,\n",
    "    verbose=2\n",
    ")\n",
    "\n",
    "print(\"Mulai tuning...\")\n",
    "random_search.fit(X_train, y_train)\n",
    "print(\"Tuning selesai!\")\n",
    "print(\"Best Params:\", random_search.best_params_)\n",
    "print(\"Best Score (neg RMSE):\", random_search.best_score_)"
   ]
  },
  {
   "cell_type": "markdown",
   "id": "2bcd32ba-3b84-455f-aee6-7f9590f82cb3",
   "metadata": {},
   "source": [
    "- Warning:\n",
    "XGBoost memberi tahu bahwa mulai versi 2.0.0, penggunaan tree_method='gpu_hist' sudah deprecated (tidak direkomendasikan lagi). Untuk training di GPU, sebaiknya gunakan tree_method='hist' dan tambahkan device='cuda'.\n",
    "Warning lain menyebutkan bahwa parameter predictor sudah tidak digunakan dan bisa dihapus dari inisialisasi model.\n",
    "\n",
    "- Tuning selesai!\n",
    "Proses hyperparameter tuning berhasil dijalankan.\n",
    "\n",
    "- Best Params: Menampilkan kombinasi parameter terbaik hasil tuning, yaitu:\n",
    "n_estimators: 100\n",
    "max_depth: 10\n",
    "learning_rate: 0.2\n",
    "Best Score (neg RMSE): Nilai negative root mean squared error terbaik pada validasi silang, yaitu -1322.63. Nilai ini bisa dibandingkan dengan model lain untuk memilih model terbaik.\n",
    " "
   ]
  },
  {
   "cell_type": "markdown",
   "id": "8cd080fe-ae27-4aa0-bc0e-456ec01fbfdc",
   "metadata": {},
   "source": [
    "3. Cross-validation"
   ]
  },
  {
   "cell_type": "markdown",
   "id": "a1277448-f096-4534-b58b-b232079023b6",
   "metadata": {},
   "source": [
    "Cross-validation digunakan untuk mengevaluasi performa model secara lebih robust dengan membagi data menjadi beberapa fold. Teknik ini membantu memastikan model tidak overfitting dan hasil evaluasi lebih representatif."
   ]
  },
  {
   "cell_type": "code",
   "execution_count": 15,
   "id": "54c89678-8b73-418c-a570-09673d4d6df5",
   "metadata": {},
   "outputs": [
    {
     "name": "stdout",
     "output_type": "stream",
     "text": [
      "Cross-validation RMSE per fold: [1495.93798828 1569.34143066 1443.22424316 1565.05419922 1524.2208252 ]\n",
      "Mean CV RMSE: 1519.5557373046875\n"
     ]
    }
   ],
   "source": [
    "from sklearn.model_selection import cross_val_score\n",
    "import xgboost as xgb\n",
    "import numpy as np\n",
    "\n",
    "# Inisialisasi model dengan parameter terbaik hasil tuning\n",
    "best_params = random_search.best_params_\n",
    "xgb_model = xgb.XGBRegressor(\n",
    "    tree_method='hist',\n",
    "    device='cuda',\n",
    "    random_state=42,\n",
    "    **best_params\n",
    ")\n",
    "\n",
    "# Cross-validation 5-fold, scoring pakai neg_root_mean_squared_error\n",
    "scores = cross_val_score(\n",
    "    xgb_model,\n",
    "    X,\n",
    "    y,\n",
    "    cv=5,\n",
    "    scoring='neg_root_mean_squared_error',\n",
    "    n_jobs=-1\n",
    ")\n",
    "\n",
    "# Konversi ke RMSE positif\n",
    "rmse_scores = -scores\n",
    "print(\"Cross-validation RMSE per fold:\", rmse_scores)\n",
    "print(\"Mean CV RMSE:\", np.mean(rmse_scores))"
   ]
  },
  {
   "cell_type": "markdown",
   "id": "c958dd32-e537-40b6-b86c-37aedbe70895",
   "metadata": {},
   "source": [
    "- Model dievaluasi pada 5 fold berbeda, sehingga hasil lebih stabil.\n",
    "- Nilai RMSE rata-rata dari cross-validation digunakan untuk membandingkan performa antar model.\n"
   ]
  },
  {
   "cell_type": "markdown",
   "id": "c80562b9-3bab-4f0b-9c69-94c7f14ba537",
   "metadata": {},
   "source": [
    "4. Model Comparison"
   ]
  },
  {
   "cell_type": "markdown",
   "id": "f47d132f-bbf3-49b1-9574-b867718e8a3f",
   "metadata": {},
   "source": [
    "Model comparison dilakukan untuk membandingkan performa beberapa algoritma (misal: Linear Regression, Random Forest, XGBoost) menggunakan metrik yang sama, seperti RMSE atau RMSPE. Tujuannya adalah memilih model dengan performa terbaik untuk prediksi penjualan."
   ]
  },
  {
   "cell_type": "code",
   "execution_count": 19,
   "id": "113d5d66-b022-461b-8ddf-1be56d21206a",
   "metadata": {},
   "outputs": [
    {
     "name": "stdout",
     "output_type": "stream",
     "text": [
      "Linear Regression Mean CV RMSE: 3066.5100\n",
      "Random Forest Mean CV RMSE: 2509.9394\n",
      "XGBoost Mean CV RMSE: 1513.3454\n",
      "\n",
      "Model Comparison (Mean CV RMSE):\n",
      "Linear Regression: 3066.5100\n",
      "Random Forest: 2509.9394\n",
      "XGBoost: 1513.3454\n"
     ]
    }
   ],
   "source": [
    "from sklearn.linear_model import LinearRegression\n",
    "from sklearn.ensemble import RandomForestRegressor\n",
    "import xgboost as xgb\n",
    "from sklearn.model_selection import cross_val_score\n",
    "import numpy as np\n",
    "\n",
    "# Misal: param hasil tuning RandomForest dan XGBoost\n",
    "rf_best_params = {'n_estimators': 100, 'max_depth': 10, 'min_samples_split': 2}  # contoh, sesuaikan hasil tuning RF\n",
    "xgb_best_params = {'n_estimators': 100, 'max_depth': 10, 'learning_rate': 0.2}   # dari random_search.best_params_\n",
    "\n",
    "models = {\n",
    "    \"Linear Regression\": LinearRegression(),\n",
    "    \"Random Forest\": RandomForestRegressor(**rf_best_params, random_state=42),\n",
    "    \"XGBoost\": xgb.XGBRegressor(tree_method='hist', device='cuda', random_state=42, **xgb_best_params)\n",
    "}\n",
    "\n",
    "results = {}\n",
    "for name, model in models.items():\n",
    "    scores = cross_val_score(\n",
    "        model, X, y, cv=5, scoring='neg_root_mean_squared_error', n_jobs=-1\n",
    "    )\n",
    "    rmse_scores = -scores\n",
    "    results[name] = np.mean(rmse_scores)\n",
    "    print(f\"{name} Mean CV RMSE: {np.mean(rmse_scores):.4f}\")\n",
    "\n",
    "print(\"\\nModel Comparison (Mean CV RMSE):\")\n",
    "for name, score in results.items():\n",
    "    print(f\"{name}: {score:.4f}\")"
   ]
  },
  {
   "cell_type": "markdown",
   "id": "e45a9f5d-1a46-4f45-8b74-2b5ded310cd6",
   "metadata": {},
   "source": [
    "-Linear Regression Mean CV RMSE: 3066.5100\n",
    "Model linear sederhana menghasilkan rata-rata error prediksi (RMSE) sebesar 3066 pada validasi silang.\n",
    "\n",
    "-Random Forest Mean CV RMSE: 2509.9394\n",
    "Model Random Forest, setelah tuning, menghasilkan error yang lebih rendah dibanding Linear Regression, yaitu 2509.\n",
    "\n",
    "-XGBoost Mean CV RMSE: 1513.3454\n",
    "Model XGBoost dengan tuning dan GPU menghasilkan error terendah, yaitu 1513, menandakan performa prediksi terbaik di antara ketiga model."
   ]
  },
  {
   "cell_type": "markdown",
   "id": "8479c343-d068-4249-a0ad-5506249c7bde",
   "metadata": {},
   "source": [
    "Phase 4 Final Model & SubmissionS"
   ]
  },
  {
   "cell_type": "markdown",
   "id": "fe9233c1-34b0-45ad-990e-200e58e5200e",
   "metadata": {},
   "source": [
    "1. best model selection"
   ]
  },
  {
   "cell_type": "markdown",
   "id": "515fc478-b53e-4c9f-9e5e-8fa41ab45d93",
   "metadata": {},
   "source": [
    "saya menggunakan RandomizedSearchCV untuk mencari kombinasi parameter terbaik pada model XGBoost.\n",
    "\n",
    "Tujuan tuning ini adalah menurunkan galat prediksi (RMSE) dengan menyesuaikan max_depth, learning_rate, dan n_estimators."
   ]
  },
  {
   "cell_type": "code",
   "execution_count": 21,
   "id": "8b1fc961-3e79-476b-a12d-f4876ba4f46f",
   "metadata": {},
   "outputs": [
    {
     "name": "stdout",
     "output_type": "stream",
     "text": [
      "\n",
      "🏆 Final XGBoost RMSPE on Validation Set: 0.39585551283075515\n",
      "Contoh prediksi XGBoost: [9948.715  8003.0283 7287.3413 6837.2783 5816.9814]\n"
     ]
    }
   ],
   "source": [
    "best_params = random_search.best_params_\n",
    "best_params.update({\n",
    "    'tree_method': 'hist',\n",
    "    'device': 'cuda',\n",
    "    'objective': 'reg:squarederror',\n",
    "    'random_state': 42\n",
    "})\n",
    "\n",
    "final_model = xgb.XGBRegressor(**best_params)\n",
    "\n",
    "# Gabungkan kembali training set\n",
    "X_full = X.astype(np.float32)\n",
    "y_full = y.astype(np.float32)\n",
    "final_model.fit(X_full, y_full)\n",
    "\n",
    "# Evaluasi terhadap validation set (agar bisa bandingkan RMSPE)\n",
    "y_pred_final = final_model.predict(X_val)\n",
    "score_final = rmspe(y_val, y_pred_final)\n",
    "\n",
    "print(\"\\n\\U0001F3C6 Final XGBoost RMSPE on Validation Set:\", score_final)\n",
    "print(\"Contoh prediksi XGBoost:\", y_pred_final[:5])\n"
   ]
  },
  {
   "cell_type": "markdown",
   "id": "b39675df-64e3-418a-86b8-8a71ba186311",
   "metadata": {},
   "source": [
    "- Final XGBoost RMSPE on Validation Set: 0.3959\n",
    "Artinya, rata-rata persentase galat relatif kuadrat akar (RMSPE) dari prediksi XGBoost terhadap data validasi adalah sekitar 39.6%. Ini berarti:\n",
    "Prediksi model XGBoost cukup jauh lebih baik daripada baseline Linear Regression, jika skor RMSPE sebelumnya lebih tinggi.\n",
    "RMSPE digunakan karena lebih adil saat target (Sales) memiliki rentang besar — model penalized lebih tinggi untuk kesalahan besar pada nilai kecil.\n",
    "\n",
    "- Prediksi XGBoost [9948.715 , 8003.0283, 7287.3413, 6837.2783, 5816.9814]:\n",
    "Interpretasi:\n",
    "Ini adalah hasil prediksi penjualan (dalam satuan euro) dari model XGBoost untuk 5 observasi pertama pada X_val.\n",
    "Nilai tersebut sudah dalam bentuk aslinya (tidak perlu inverse transform), karena kita tidak melakukan transformasi log pada target (y).\n",
    "Misalnya, pada baris pertama, model memperkirakan toko akan menghasilkan penjualan sekitar €9,949 untuk hari dan toko terkait.\n",
    "\n",
    "\n",
    "  \n",
    "\n"
   ]
  },
  {
   "cell_type": "markdown",
   "id": "61ed657f-175e-47b8-aba7-239b52fe5c60",
   "metadata": {},
   "source": [
    "2. Final Prediction"
   ]
  },
  {
   "cell_type": "markdown",
   "id": "aa062949-462d-4340-a494-809ec9a81f59",
   "metadata": {},
   "source": [
    "Setelah parameter terbaik diperoleh, model dilatih ulang (final_model) pada seluruh data training (X_full, y_full).\n",
    "\n",
    "Prediksi dilakukan terhadap data validasi agar kita bisa bandingkan dengan baseline (Linear Regression)."
   ]
  },
  {
   "cell_type": "code",
   "execution_count": 23,
   "id": "22401ce2-ce40-442b-86ac-e88e52f70b02",
   "metadata": {},
   "outputs": [
    {
     "name": "stdout",
     "output_type": "stream",
     "text": [
      "\n",
      "📊 Perbandingan Model:\n",
      "Linear Regression RMSPE : 1513.3454\n",
      "XGBoost RMSPE           : 0.3959\n"
     ]
    }
   ],
   "source": [
    "print(\"\\n\\U0001F4CA Perbandingan Model:\")\n",
    "print(f\"Linear Regression RMSPE : {score:.4f}\")\n",
    "print(f\"XGBoost RMSPE           : {score_final:.4f}\")"
   ]
  },
  {
   "cell_type": "markdown",
   "id": "dcb50a60-013d-4073-93b5-75d0fd29ef10",
   "metadata": {},
   "source": [
    "- Linear Regression:\n",
    "RMSPE sangat tinggi (1513.3454), yang menandakan bahwa model ini memiliki kesalahan prediksi yang sangat besar relatif terhadap nilai sales sesungguhnya. Hal ini dapat terjadi karena Linear Regression mengasumsikan hubungan linier antar fitur, sehingga kurang mampu menangkap kompleksitas dan interaksi non-linier dalam data retail.\n",
    "\n",
    "- XGBoost:\n",
    "RMSPE jauh lebih rendah (0.3959), yang menunjukkan bahwa model ini jauh lebih akurat dan mampu menangkap pola-pola penting dalam data.\n",
    "XGBoost merupakan model tree-based yang sangat cocok untuk data tabular dengan banyak fitur numerik dan interaksi antar variabel.\n",
    "\n"
   ]
  },
  {
   "cell_type": "code",
   "execution_count": null,
   "id": "5f118b34-7d7b-4eef-98cd-61e19e3e1215",
   "metadata": {},
   "outputs": [],
   "source": []
  }
 ],
 "metadata": {
  "kernelspec": {
   "display_name": "Python 3 (ipykernel)",
   "language": "python",
   "name": "python3"
  },
  "language_info": {
   "codemirror_mode": {
    "name": "ipython",
    "version": 3
   },
   "file_extension": ".py",
   "mimetype": "text/x-python",
   "name": "python",
   "nbconvert_exporter": "python",
   "pygments_lexer": "ipython3",
   "version": "3.12.8"
  }
 },
 "nbformat": 4,
 "nbformat_minor": 5
}
