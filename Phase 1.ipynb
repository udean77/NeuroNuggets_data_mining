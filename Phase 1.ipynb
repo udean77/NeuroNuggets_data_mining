{
 "cells": [
  {
   "cell_type": "markdown",
   "id": "e19f4176-f392-4493-9570-a567eee2e62e",
   "metadata": {},
   "source": [
    "Phase 1 : Data Exploration"
   ]
  },
  {
   "cell_type": "markdown",
   "id": "64e09c4d-d97e-4022-b258-642915831978",
   "metadata": {},
   "source": [
    "1. Install library"
   ]
  },
  {
   "cell_type": "code",
   "execution_count": null,
   "id": "fcd18bb6-8ee8-4628-99db-e1e6b18110bc",
   "metadata": {
    "scrolled": true
   },
   "outputs": [],
   "source": [
    "!pip3 install pandas numpy matplotlib seaborn scikit-learn xgboost"
   ]
  },
  {
   "cell_type": "markdown",
   "id": "fd4f994f-a39f-4b59-b2e0-9e0d3421d96d",
   "metadata": {},
   "source": [
    "2. Load Dataset"
   ]
  },
  {
   "cell_type": "code",
   "execution_count": 1,
   "id": "df56c733-ff06-4937-9df2-88a4175bd642",
   "metadata": {},
   "outputs": [
    {
     "name": "stderr",
     "output_type": "stream",
     "text": [
      "C:\\Users\\LENOVO LOQ\\AppData\\Local\\Temp\\ipykernel_16684\\958352833.py:7: DtypeWarning: Columns (7) have mixed types. Specify dtype option on import or set low_memory=False.\n",
      "  train = pd.read_csv('data/train.csv')\n"
     ]
    },
    {
     "name": "stdout",
     "output_type": "stream",
     "text": [
      "(1017209, 18)\n"
     ]
    },
    {
     "data": {
      "text/html": [
       "<div>\n",
       "<style scoped>\n",
       "    .dataframe tbody tr th:only-of-type {\n",
       "        vertical-align: middle;\n",
       "    }\n",
       "\n",
       "    .dataframe tbody tr th {\n",
       "        vertical-align: top;\n",
       "    }\n",
       "\n",
       "    .dataframe thead th {\n",
       "        text-align: right;\n",
       "    }\n",
       "</style>\n",
       "<table border=\"1\" class=\"dataframe\">\n",
       "  <thead>\n",
       "    <tr style=\"text-align: right;\">\n",
       "      <th></th>\n",
       "      <th>Store</th>\n",
       "      <th>DayOfWeek</th>\n",
       "      <th>Date</th>\n",
       "      <th>Sales</th>\n",
       "      <th>Customers</th>\n",
       "      <th>Open</th>\n",
       "      <th>Promo</th>\n",
       "      <th>StateHoliday</th>\n",
       "      <th>SchoolHoliday</th>\n",
       "      <th>StoreType</th>\n",
       "      <th>Assortment</th>\n",
       "      <th>CompetitionDistance</th>\n",
       "      <th>CompetitionOpenSinceMonth</th>\n",
       "      <th>CompetitionOpenSinceYear</th>\n",
       "      <th>Promo2</th>\n",
       "      <th>Promo2SinceWeek</th>\n",
       "      <th>Promo2SinceYear</th>\n",
       "      <th>PromoInterval</th>\n",
       "    </tr>\n",
       "  </thead>\n",
       "  <tbody>\n",
       "    <tr>\n",
       "      <th>0</th>\n",
       "      <td>1</td>\n",
       "      <td>5</td>\n",
       "      <td>2015-07-31</td>\n",
       "      <td>5263</td>\n",
       "      <td>555</td>\n",
       "      <td>1</td>\n",
       "      <td>1</td>\n",
       "      <td>0</td>\n",
       "      <td>1</td>\n",
       "      <td>c</td>\n",
       "      <td>a</td>\n",
       "      <td>1270.0</td>\n",
       "      <td>9.0</td>\n",
       "      <td>2008.0</td>\n",
       "      <td>0</td>\n",
       "      <td>NaN</td>\n",
       "      <td>NaN</td>\n",
       "      <td>NaN</td>\n",
       "    </tr>\n",
       "    <tr>\n",
       "      <th>1</th>\n",
       "      <td>2</td>\n",
       "      <td>5</td>\n",
       "      <td>2015-07-31</td>\n",
       "      <td>6064</td>\n",
       "      <td>625</td>\n",
       "      <td>1</td>\n",
       "      <td>1</td>\n",
       "      <td>0</td>\n",
       "      <td>1</td>\n",
       "      <td>a</td>\n",
       "      <td>a</td>\n",
       "      <td>570.0</td>\n",
       "      <td>11.0</td>\n",
       "      <td>2007.0</td>\n",
       "      <td>1</td>\n",
       "      <td>13.0</td>\n",
       "      <td>2010.0</td>\n",
       "      <td>Jan,Apr,Jul,Oct</td>\n",
       "    </tr>\n",
       "    <tr>\n",
       "      <th>2</th>\n",
       "      <td>3</td>\n",
       "      <td>5</td>\n",
       "      <td>2015-07-31</td>\n",
       "      <td>8314</td>\n",
       "      <td>821</td>\n",
       "      <td>1</td>\n",
       "      <td>1</td>\n",
       "      <td>0</td>\n",
       "      <td>1</td>\n",
       "      <td>a</td>\n",
       "      <td>a</td>\n",
       "      <td>14130.0</td>\n",
       "      <td>12.0</td>\n",
       "      <td>2006.0</td>\n",
       "      <td>1</td>\n",
       "      <td>14.0</td>\n",
       "      <td>2011.0</td>\n",
       "      <td>Jan,Apr,Jul,Oct</td>\n",
       "    </tr>\n",
       "    <tr>\n",
       "      <th>3</th>\n",
       "      <td>4</td>\n",
       "      <td>5</td>\n",
       "      <td>2015-07-31</td>\n",
       "      <td>13995</td>\n",
       "      <td>1498</td>\n",
       "      <td>1</td>\n",
       "      <td>1</td>\n",
       "      <td>0</td>\n",
       "      <td>1</td>\n",
       "      <td>c</td>\n",
       "      <td>c</td>\n",
       "      <td>620.0</td>\n",
       "      <td>9.0</td>\n",
       "      <td>2009.0</td>\n",
       "      <td>0</td>\n",
       "      <td>NaN</td>\n",
       "      <td>NaN</td>\n",
       "      <td>NaN</td>\n",
       "    </tr>\n",
       "    <tr>\n",
       "      <th>4</th>\n",
       "      <td>5</td>\n",
       "      <td>5</td>\n",
       "      <td>2015-07-31</td>\n",
       "      <td>4822</td>\n",
       "      <td>559</td>\n",
       "      <td>1</td>\n",
       "      <td>1</td>\n",
       "      <td>0</td>\n",
       "      <td>1</td>\n",
       "      <td>a</td>\n",
       "      <td>a</td>\n",
       "      <td>29910.0</td>\n",
       "      <td>4.0</td>\n",
       "      <td>2015.0</td>\n",
       "      <td>0</td>\n",
       "      <td>NaN</td>\n",
       "      <td>NaN</td>\n",
       "      <td>NaN</td>\n",
       "    </tr>\n",
       "  </tbody>\n",
       "</table>\n",
       "</div>"
      ],
      "text/plain": [
       "   Store  DayOfWeek       Date  Sales  Customers  Open  Promo StateHoliday  \\\n",
       "0      1          5 2015-07-31   5263        555     1      1            0   \n",
       "1      2          5 2015-07-31   6064        625     1      1            0   \n",
       "2      3          5 2015-07-31   8314        821     1      1            0   \n",
       "3      4          5 2015-07-31  13995       1498     1      1            0   \n",
       "4      5          5 2015-07-31   4822        559     1      1            0   \n",
       "\n",
       "   SchoolHoliday StoreType Assortment  CompetitionDistance  \\\n",
       "0              1         c          a               1270.0   \n",
       "1              1         a          a                570.0   \n",
       "2              1         a          a              14130.0   \n",
       "3              1         c          c                620.0   \n",
       "4              1         a          a              29910.0   \n",
       "\n",
       "   CompetitionOpenSinceMonth  CompetitionOpenSinceYear  Promo2  \\\n",
       "0                        9.0                    2008.0       0   \n",
       "1                       11.0                    2007.0       1   \n",
       "2                       12.0                    2006.0       1   \n",
       "3                        9.0                    2009.0       0   \n",
       "4                        4.0                    2015.0       0   \n",
       "\n",
       "   Promo2SinceWeek  Promo2SinceYear    PromoInterval  \n",
       "0              NaN              NaN              NaN  \n",
       "1             13.0           2010.0  Jan,Apr,Jul,Oct  \n",
       "2             14.0           2011.0  Jan,Apr,Jul,Oct  \n",
       "3              NaN              NaN              NaN  \n",
       "4              NaN              NaN              NaN  "
      ]
     },
     "execution_count": 1,
     "metadata": {},
     "output_type": "execute_result"
    }
   ],
   "source": [
    "import pandas as pd\n",
    "import numpy as np\n",
    "import matplotlib.pyplot as plt\n",
    "import seaborn as sns\n",
    "\n",
    "# Load data\n",
    "train = pd.read_csv('data/train.csv')\n",
    "store = pd.read_csv('data/store.csv')\n",
    "\n",
    "# Gabungkan data toko ke data penjualan\n",
    "df = pd.merge(train, store, on='Store')\n",
    "\n",
    "# Konversi kolom tanggal\n",
    "df['Date'] = pd.to_datetime(df['Date'])\n",
    "\n",
    "# Lihat data awal\n",
    "print(df.shape)\n",
    "df.head()\n"
   ]
  },
  {
   "cell_type": "markdown",
   "id": "85b4789a-628f-4021-ab70-8ccb45737fbc",
   "metadata": {},
   "source": [
    "3. Exploratory Data Analysis (EDA)"
   ]
  },
  {
   "cell_type": "code",
   "execution_count": 2,
   "id": "74788d4e-f4ec-408c-b69e-a1df39fcf9e5",
   "metadata": {
    "scrolled": true
   },
   "outputs": [
    {
     "name": "stdout",
     "output_type": "stream",
     "text": [
      "Statistik deskriptif:\n"
     ]
    },
    {
     "data": {
      "text/html": [
       "<div>\n",
       "<style scoped>\n",
       "    .dataframe tbody tr th:only-of-type {\n",
       "        vertical-align: middle;\n",
       "    }\n",
       "\n",
       "    .dataframe tbody tr th {\n",
       "        vertical-align: top;\n",
       "    }\n",
       "\n",
       "    .dataframe thead th {\n",
       "        text-align: right;\n",
       "    }\n",
       "</style>\n",
       "<table border=\"1\" class=\"dataframe\">\n",
       "  <thead>\n",
       "    <tr style=\"text-align: right;\">\n",
       "      <th></th>\n",
       "      <th>Store</th>\n",
       "      <th>DayOfWeek</th>\n",
       "      <th>Date</th>\n",
       "      <th>Sales</th>\n",
       "      <th>Customers</th>\n",
       "      <th>Open</th>\n",
       "      <th>Promo</th>\n",
       "      <th>SchoolHoliday</th>\n",
       "      <th>CompetitionDistance</th>\n",
       "      <th>CompetitionOpenSinceMonth</th>\n",
       "      <th>CompetitionOpenSinceYear</th>\n",
       "      <th>Promo2</th>\n",
       "      <th>Promo2SinceWeek</th>\n",
       "      <th>Promo2SinceYear</th>\n",
       "    </tr>\n",
       "  </thead>\n",
       "  <tbody>\n",
       "    <tr>\n",
       "      <th>count</th>\n",
       "      <td>1.017209e+06</td>\n",
       "      <td>1.017209e+06</td>\n",
       "      <td>1017209</td>\n",
       "      <td>1.017209e+06</td>\n",
       "      <td>1.017209e+06</td>\n",
       "      <td>1.017209e+06</td>\n",
       "      <td>1.017209e+06</td>\n",
       "      <td>1.017209e+06</td>\n",
       "      <td>1.014567e+06</td>\n",
       "      <td>693861.000000</td>\n",
       "      <td>693861.000000</td>\n",
       "      <td>1.017209e+06</td>\n",
       "      <td>509178.000000</td>\n",
       "      <td>509178.000000</td>\n",
       "    </tr>\n",
       "    <tr>\n",
       "      <th>mean</th>\n",
       "      <td>5.584297e+02</td>\n",
       "      <td>3.998341e+00</td>\n",
       "      <td>2014-04-11 01:30:42.846061824</td>\n",
       "      <td>5.773819e+03</td>\n",
       "      <td>6.331459e+02</td>\n",
       "      <td>8.301067e-01</td>\n",
       "      <td>3.815145e-01</td>\n",
       "      <td>1.786467e-01</td>\n",
       "      <td>5.430086e+03</td>\n",
       "      <td>7.222866</td>\n",
       "      <td>2008.690228</td>\n",
       "      <td>5.005638e-01</td>\n",
       "      <td>23.269093</td>\n",
       "      <td>2011.752774</td>\n",
       "    </tr>\n",
       "    <tr>\n",
       "      <th>min</th>\n",
       "      <td>1.000000e+00</td>\n",
       "      <td>1.000000e+00</td>\n",
       "      <td>2013-01-01 00:00:00</td>\n",
       "      <td>0.000000e+00</td>\n",
       "      <td>0.000000e+00</td>\n",
       "      <td>0.000000e+00</td>\n",
       "      <td>0.000000e+00</td>\n",
       "      <td>0.000000e+00</td>\n",
       "      <td>2.000000e+01</td>\n",
       "      <td>1.000000</td>\n",
       "      <td>1900.000000</td>\n",
       "      <td>0.000000e+00</td>\n",
       "      <td>1.000000</td>\n",
       "      <td>2009.000000</td>\n",
       "    </tr>\n",
       "    <tr>\n",
       "      <th>25%</th>\n",
       "      <td>2.800000e+02</td>\n",
       "      <td>2.000000e+00</td>\n",
       "      <td>2013-08-17 00:00:00</td>\n",
       "      <td>3.727000e+03</td>\n",
       "      <td>4.050000e+02</td>\n",
       "      <td>1.000000e+00</td>\n",
       "      <td>0.000000e+00</td>\n",
       "      <td>0.000000e+00</td>\n",
       "      <td>7.100000e+02</td>\n",
       "      <td>4.000000</td>\n",
       "      <td>2006.000000</td>\n",
       "      <td>0.000000e+00</td>\n",
       "      <td>13.000000</td>\n",
       "      <td>2011.000000</td>\n",
       "    </tr>\n",
       "    <tr>\n",
       "      <th>50%</th>\n",
       "      <td>5.580000e+02</td>\n",
       "      <td>4.000000e+00</td>\n",
       "      <td>2014-04-02 00:00:00</td>\n",
       "      <td>5.744000e+03</td>\n",
       "      <td>6.090000e+02</td>\n",
       "      <td>1.000000e+00</td>\n",
       "      <td>0.000000e+00</td>\n",
       "      <td>0.000000e+00</td>\n",
       "      <td>2.330000e+03</td>\n",
       "      <td>8.000000</td>\n",
       "      <td>2010.000000</td>\n",
       "      <td>1.000000e+00</td>\n",
       "      <td>22.000000</td>\n",
       "      <td>2012.000000</td>\n",
       "    </tr>\n",
       "    <tr>\n",
       "      <th>75%</th>\n",
       "      <td>8.380000e+02</td>\n",
       "      <td>6.000000e+00</td>\n",
       "      <td>2014-12-12 00:00:00</td>\n",
       "      <td>7.856000e+03</td>\n",
       "      <td>8.370000e+02</td>\n",
       "      <td>1.000000e+00</td>\n",
       "      <td>1.000000e+00</td>\n",
       "      <td>0.000000e+00</td>\n",
       "      <td>6.890000e+03</td>\n",
       "      <td>10.000000</td>\n",
       "      <td>2013.000000</td>\n",
       "      <td>1.000000e+00</td>\n",
       "      <td>37.000000</td>\n",
       "      <td>2013.000000</td>\n",
       "    </tr>\n",
       "    <tr>\n",
       "      <th>max</th>\n",
       "      <td>1.115000e+03</td>\n",
       "      <td>7.000000e+00</td>\n",
       "      <td>2015-07-31 00:00:00</td>\n",
       "      <td>4.155100e+04</td>\n",
       "      <td>7.388000e+03</td>\n",
       "      <td>1.000000e+00</td>\n",
       "      <td>1.000000e+00</td>\n",
       "      <td>1.000000e+00</td>\n",
       "      <td>7.586000e+04</td>\n",
       "      <td>12.000000</td>\n",
       "      <td>2015.000000</td>\n",
       "      <td>1.000000e+00</td>\n",
       "      <td>50.000000</td>\n",
       "      <td>2015.000000</td>\n",
       "    </tr>\n",
       "    <tr>\n",
       "      <th>std</th>\n",
       "      <td>3.219087e+02</td>\n",
       "      <td>1.997391e+00</td>\n",
       "      <td>NaN</td>\n",
       "      <td>3.849926e+03</td>\n",
       "      <td>4.644117e+02</td>\n",
       "      <td>3.755392e-01</td>\n",
       "      <td>4.857586e-01</td>\n",
       "      <td>3.830564e-01</td>\n",
       "      <td>7.715324e+03</td>\n",
       "      <td>3.211832</td>\n",
       "      <td>5.992644</td>\n",
       "      <td>4.999999e-01</td>\n",
       "      <td>14.095973</td>\n",
       "      <td>1.662870</td>\n",
       "    </tr>\n",
       "  </tbody>\n",
       "</table>\n",
       "</div>"
      ],
      "text/plain": [
       "              Store     DayOfWeek                           Date  \\\n",
       "count  1.017209e+06  1.017209e+06                        1017209   \n",
       "mean   5.584297e+02  3.998341e+00  2014-04-11 01:30:42.846061824   \n",
       "min    1.000000e+00  1.000000e+00            2013-01-01 00:00:00   \n",
       "25%    2.800000e+02  2.000000e+00            2013-08-17 00:00:00   \n",
       "50%    5.580000e+02  4.000000e+00            2014-04-02 00:00:00   \n",
       "75%    8.380000e+02  6.000000e+00            2014-12-12 00:00:00   \n",
       "max    1.115000e+03  7.000000e+00            2015-07-31 00:00:00   \n",
       "std    3.219087e+02  1.997391e+00                            NaN   \n",
       "\n",
       "              Sales     Customers          Open         Promo  SchoolHoliday  \\\n",
       "count  1.017209e+06  1.017209e+06  1.017209e+06  1.017209e+06   1.017209e+06   \n",
       "mean   5.773819e+03  6.331459e+02  8.301067e-01  3.815145e-01   1.786467e-01   \n",
       "min    0.000000e+00  0.000000e+00  0.000000e+00  0.000000e+00   0.000000e+00   \n",
       "25%    3.727000e+03  4.050000e+02  1.000000e+00  0.000000e+00   0.000000e+00   \n",
       "50%    5.744000e+03  6.090000e+02  1.000000e+00  0.000000e+00   0.000000e+00   \n",
       "75%    7.856000e+03  8.370000e+02  1.000000e+00  1.000000e+00   0.000000e+00   \n",
       "max    4.155100e+04  7.388000e+03  1.000000e+00  1.000000e+00   1.000000e+00   \n",
       "std    3.849926e+03  4.644117e+02  3.755392e-01  4.857586e-01   3.830564e-01   \n",
       "\n",
       "       CompetitionDistance  CompetitionOpenSinceMonth  \\\n",
       "count         1.014567e+06              693861.000000   \n",
       "mean          5.430086e+03                   7.222866   \n",
       "min           2.000000e+01                   1.000000   \n",
       "25%           7.100000e+02                   4.000000   \n",
       "50%           2.330000e+03                   8.000000   \n",
       "75%           6.890000e+03                  10.000000   \n",
       "max           7.586000e+04                  12.000000   \n",
       "std           7.715324e+03                   3.211832   \n",
       "\n",
       "       CompetitionOpenSinceYear        Promo2  Promo2SinceWeek  \\\n",
       "count             693861.000000  1.017209e+06    509178.000000   \n",
       "mean                2008.690228  5.005638e-01        23.269093   \n",
       "min                 1900.000000  0.000000e+00         1.000000   \n",
       "25%                 2006.000000  0.000000e+00        13.000000   \n",
       "50%                 2010.000000  1.000000e+00        22.000000   \n",
       "75%                 2013.000000  1.000000e+00        37.000000   \n",
       "max                 2015.000000  1.000000e+00        50.000000   \n",
       "std                    5.992644  4.999999e-01        14.095973   \n",
       "\n",
       "       Promo2SinceYear  \n",
       "count    509178.000000  \n",
       "mean       2011.752774  \n",
       "min        2009.000000  \n",
       "25%        2011.000000  \n",
       "50%        2012.000000  \n",
       "75%        2013.000000  \n",
       "max        2015.000000  \n",
       "std           1.662870  "
      ]
     },
     "metadata": {},
     "output_type": "display_data"
    },
    {
     "name": "stdout",
     "output_type": "stream",
     "text": [
      "\n",
      "Cek missing values:\n"
     ]
    },
    {
     "data": {
      "text/plain": [
       "Store                             0\n",
       "DayOfWeek                         0\n",
       "Date                              0\n",
       "Sales                             0\n",
       "Customers                         0\n",
       "Open                              0\n",
       "Promo                             0\n",
       "StateHoliday                      0\n",
       "SchoolHoliday                     0\n",
       "StoreType                         0\n",
       "Assortment                        0\n",
       "CompetitionDistance            2642\n",
       "CompetitionOpenSinceMonth    323348\n",
       "CompetitionOpenSinceYear     323348\n",
       "Promo2                            0\n",
       "Promo2SinceWeek              508031\n",
       "Promo2SinceYear              508031\n",
       "PromoInterval                508031\n",
       "dtype: int64"
      ]
     },
     "metadata": {},
     "output_type": "display_data"
    },
    {
     "name": "stdout",
     "output_type": "stream",
     "text": [
      "\n",
      "Distribusi penjualan (Sales):\n"
     ]
    },
    {
     "data": {
      "image/png": "[encoded data removed]",
      "text/plain": [
       "<Figure size 800x400 with 1 Axes>"
      ]
     },
     "metadata": {},
     "output_type": "display_data"
    },
    {
     "name": "stdout",
     "output_type": "stream",
     "text": [
      "\n",
      "Jumlah toko unik: 1115\n",
      "Rentang tanggal: 2013-01-01 00:00:00 sampai 2015-07-31 00:00:00\n"
     ]
    }
   ],
   "source": [
    "# Exploratory Data Analysis (EDA)\n",
    "print(\"Statistik deskriptif:\")\n",
    "display(df.describe())\n",
    "\n",
    "print(\"\\nCek missing values:\")\n",
    "display(df.isnull().sum())\n",
    "\n",
    "print(\"\\nDistribusi penjualan (Sales):\")\n",
    "plt.figure(figsize=(8,4))\n",
    "sns.histplot(df['Sales'], bins=50, kde=True)\n",
    "plt.title('Distribusi Sales')\n",
    "plt.xlabel('Sales')\n",
    "plt.ylabel('Frequency')\n",
    "plt.show()\n",
    "\n",
    "print(\"\\nJumlah toko unik:\", df['Store'].nunique())\n",
    "print(\"Rentang tanggal:\", df['Date'].min(), \"sampai\", df['Date'].max())"
   ]
  },
  {
   "cell_type": "markdown",
   "id": "9895445f-c3ab-41e6-b373-e846b950eb6c",
   "metadata": {},
   "source": [
    "3. Data Quality Check"
   ]
  },
  {
   "cell_type": "code",
   "execution_count": 3,
   "id": "7d1a11d6",
   "metadata": {},
   "outputs": [
    {
     "name": "stdout",
     "output_type": "stream",
     "text": [
      "Jumlah missing values per kolom:\n",
      "Store                             0\n",
      "DayOfWeek                         0\n",
      "Date                              0\n",
      "Sales                             0\n",
      "Customers                         0\n",
      "Open                              0\n",
      "Promo                             0\n",
      "StateHoliday                      0\n",
      "SchoolHoliday                     0\n",
      "StoreType                         0\n",
      "Assortment                        0\n",
      "CompetitionDistance            2642\n",
      "CompetitionOpenSinceMonth    323348\n",
      "CompetitionOpenSinceYear     323348\n",
      "Promo2                            0\n",
      "Promo2SinceWeek              508031\n",
      "Promo2SinceYear              508031\n",
      "PromoInterval                508031\n",
      "dtype: int64\n",
      "\n",
      "Contoh data dengan missing values:\n"
     ]
    },
    {
     "data": {
      "text/html": [
       "<div>\n",
       "<style scoped>\n",
       "    .dataframe tbody tr th:only-of-type {\n",
       "        vertical-align: middle;\n",
       "    }\n",
       "\n",
       "    .dataframe tbody tr th {\n",
       "        vertical-align: top;\n",
       "    }\n",
       "\n",
       "    .dataframe thead th {\n",
       "        text-align: right;\n",
       "    }\n",
       "</style>\n",
       "<table border=\"1\" class=\"dataframe\">\n",
       "  <thead>\n",
       "    <tr style=\"text-align: right;\">\n",
       "      <th></th>\n",
       "      <th>Store</th>\n",
       "      <th>DayOfWeek</th>\n",
       "      <th>Date</th>\n",
       "      <th>Sales</th>\n",
       "      <th>Customers</th>\n",
       "      <th>Open</th>\n",
       "      <th>Promo</th>\n",
       "      <th>StateHoliday</th>\n",
       "      <th>SchoolHoliday</th>\n",
       "      <th>StoreType</th>\n",
       "      <th>Assortment</th>\n",
       "      <th>CompetitionDistance</th>\n",
       "      <th>CompetitionOpenSinceMonth</th>\n",
       "      <th>CompetitionOpenSinceYear</th>\n",
       "      <th>Promo2</th>\n",
       "      <th>Promo2SinceWeek</th>\n",
       "      <th>Promo2SinceYear</th>\n",
       "      <th>PromoInterval</th>\n",
       "    </tr>\n",
       "  </thead>\n",
       "  <tbody>\n",
       "    <tr>\n",
       "      <th>0</th>\n",
       "      <td>1</td>\n",
       "      <td>5</td>\n",
       "      <td>2015-07-31</td>\n",
       "      <td>5263</td>\n",
       "      <td>555</td>\n",
       "      <td>1</td>\n",
       "      <td>1</td>\n",
       "      <td>0</td>\n",
       "      <td>1</td>\n",
       "      <td>c</td>\n",
       "      <td>a</td>\n",
       "      <td>1270.0</td>\n",
       "      <td>9.0</td>\n",
       "      <td>2008.0</td>\n",
       "      <td>0</td>\n",
       "      <td>NaN</td>\n",
       "      <td>NaN</td>\n",
       "      <td>NaN</td>\n",
       "    </tr>\n",
       "    <tr>\n",
       "      <th>3</th>\n",
       "      <td>4</td>\n",
       "      <td>5</td>\n",
       "      <td>2015-07-31</td>\n",
       "      <td>13995</td>\n",
       "      <td>1498</td>\n",
       "      <td>1</td>\n",
       "      <td>1</td>\n",
       "      <td>0</td>\n",
       "      <td>1</td>\n",
       "      <td>c</td>\n",
       "      <td>c</td>\n",
       "      <td>620.0</td>\n",
       "      <td>9.0</td>\n",
       "      <td>2009.0</td>\n",
       "      <td>0</td>\n",
       "      <td>NaN</td>\n",
       "      <td>NaN</td>\n",
       "      <td>NaN</td>\n",
       "    </tr>\n",
       "    <tr>\n",
       "      <th>4</th>\n",
       "      <td>5</td>\n",
       "      <td>5</td>\n",
       "      <td>2015-07-31</td>\n",
       "      <td>4822</td>\n",
       "      <td>559</td>\n",
       "      <td>1</td>\n",
       "      <td>1</td>\n",
       "      <td>0</td>\n",
       "      <td>1</td>\n",
       "      <td>a</td>\n",
       "      <td>a</td>\n",
       "      <td>29910.0</td>\n",
       "      <td>4.0</td>\n",
       "      <td>2015.0</td>\n",
       "      <td>0</td>\n",
       "      <td>NaN</td>\n",
       "      <td>NaN</td>\n",
       "      <td>NaN</td>\n",
       "    </tr>\n",
       "    <tr>\n",
       "      <th>5</th>\n",
       "      <td>6</td>\n",
       "      <td>5</td>\n",
       "      <td>2015-07-31</td>\n",
       "      <td>5651</td>\n",
       "      <td>589</td>\n",
       "      <td>1</td>\n",
       "      <td>1</td>\n",
       "      <td>0</td>\n",
       "      <td>1</td>\n",
       "      <td>a</td>\n",
       "      <td>a</td>\n",
       "      <td>310.0</td>\n",
       "      <td>12.0</td>\n",
       "      <td>2013.0</td>\n",
       "      <td>0</td>\n",
       "      <td>NaN</td>\n",
       "      <td>NaN</td>\n",
       "      <td>NaN</td>\n",
       "    </tr>\n",
       "    <tr>\n",
       "      <th>6</th>\n",
       "      <td>7</td>\n",
       "      <td>5</td>\n",
       "      <td>2015-07-31</td>\n",
       "      <td>15344</td>\n",
       "      <td>1414</td>\n",
       "      <td>1</td>\n",
       "      <td>1</td>\n",
       "      <td>0</td>\n",
       "      <td>1</td>\n",
       "      <td>a</td>\n",
       "      <td>c</td>\n",
       "      <td>24000.0</td>\n",
       "      <td>4.0</td>\n",
       "      <td>2013.0</td>\n",
       "      <td>0</td>\n",
       "      <td>NaN</td>\n",
       "      <td>NaN</td>\n",
       "      <td>NaN</td>\n",
       "    </tr>\n",
       "  </tbody>\n",
       "</table>\n",
       "</div>"
      ],
      "text/plain": [
       "   Store  DayOfWeek       Date  Sales  Customers  Open  Promo StateHoliday  \\\n",
       "0      1          5 2015-07-31   5263        555     1      1            0   \n",
       "3      4          5 2015-07-31  13995       1498     1      1            0   \n",
       "4      5          5 2015-07-31   4822        559     1      1            0   \n",
       "5      6          5 2015-07-31   5651        589     1      1            0   \n",
       "6      7          5 2015-07-31  15344       1414     1      1            0   \n",
       "\n",
       "   SchoolHoliday StoreType Assortment  CompetitionDistance  \\\n",
       "0              1         c          a               1270.0   \n",
       "3              1         c          c                620.0   \n",
       "4              1         a          a              29910.0   \n",
       "5              1         a          a                310.0   \n",
       "6              1         a          c              24000.0   \n",
       "\n",
       "   CompetitionOpenSinceMonth  CompetitionOpenSinceYear  Promo2  \\\n",
       "0                        9.0                    2008.0       0   \n",
       "3                        9.0                    2009.0       0   \n",
       "4                        4.0                    2015.0       0   \n",
       "5                       12.0                    2013.0       0   \n",
       "6                        4.0                    2013.0       0   \n",
       "\n",
       "   Promo2SinceWeek  Promo2SinceYear PromoInterval  \n",
       "0              NaN              NaN           NaN  \n",
       "3              NaN              NaN           NaN  \n",
       "4              NaN              NaN           NaN  \n",
       "5              NaN              NaN           NaN  \n",
       "6              NaN              NaN           NaN  "
      ]
     },
     "metadata": {},
     "output_type": "display_data"
    },
    {
     "data": {
      "image/png": "[encoded data removed]",
      "text/plain": [
       "<Figure size 1200x800 with 2 Axes>"
      ]
     },
     "metadata": {},
     "output_type": "display_data"
    },
    {
     "name": "stdout",
     "output_type": "stream",
     "text": [
      "\n",
      "Korelasi fitur dengan Sales:\n",
      "Sales                        1.000000\n",
      "Customers                    0.894711\n",
      "Open                         0.678472\n",
      "Promo                        0.452345\n",
      "SchoolHoliday                0.085124\n",
      "Promo2SinceWeek              0.059558\n",
      "CompetitionOpenSinceYear     0.012659\n",
      "Store                        0.005126\n",
      "CompetitionDistance         -0.019229\n",
      "Promo2SinceYear             -0.021127\n",
      "CompetitionOpenSinceMonth   -0.028257\n",
      "Promo2                      -0.091040\n",
      "DayOfWeek                   -0.462125\n",
      "Name: Sales, dtype: float64\n"
     ]
    }
   ],
   "source": [
    "# Data Quality Check\n",
    "print(\"Jumlah missing values per kolom:\")\n",
    "print(df.isnull().sum())\n",
    "\n",
    "print(\"\\nContoh data dengan missing values:\")\n",
    "display(df[df.isnull().any(axis=1)].head())\n",
    "\n",
    "# Feature Correlation Analysis\n",
    "plt.figure(figsize=(12,8))\n",
    "corr = df.corr(numeric_only=True)\n",
    "sns.heatmap(corr, annot=True, cmap='coolwarm', fmt=\".2f\")\n",
    "plt.title('Correlation Matrix antar Fitur Numerik')\n",
    "plt.show()\n",
    "\n",
    "print(\"\\nKorelasi fitur dengan Sales:\")\n",
    "print(corr['Sales'].sort_values(ascending=False))"
   ]
  },
  {
   "cell_type": "markdown",
   "id": "8f09ec78-0b2d-4dfe-a73d-68657ae3440d",
   "metadata": {},
   "source": [
    "Phase 2: Feature Engineering"
   ]
  },
  {
   "cell_type": "markdown",
   "id": "a26e072d-43a1-4375-be12-b66a647ce539",
   "metadata": {},
   "source": [
    "1. Load data hasil merge dari phase 1"
   ]
  },
  {
   "cell_type": "code",
   "execution_count": 4,
   "id": "041f9924-65b4-4b88-a445-b5f82c26e023",
   "metadata": {},
   "outputs": [
    {
     "name": "stderr",
     "output_type": "stream",
     "text": [
      "C:\\Users\\LENOVO LOQ\\AppData\\Local\\Temp\\ipykernel_16684\\3821510352.py:4: DtypeWarning: Columns (7) have mixed types. Specify dtype option on import or set low_memory=False.\n",
      "  train = pd.read_csv('data/train.csv', parse_dates=['Date'])\n"
     ]
    },
    {
     "name": "stdout",
     "output_type": "stream",
     "text": [
      "   Store  DayOfWeek       Date  Sales  Customers  Open  Promo StateHoliday  \\\n",
      "0      1          4 2015-07-31   5263        555     1      1            0   \n",
      "1      2          4 2015-07-31   6064        625     1      1            0   \n",
      "2      3          4 2015-07-31   8314        821     1      1            0   \n",
      "3      4          4 2015-07-31  13995       1498     1      1            0   \n",
      "4      5          4 2015-07-31   4822        559     1      1            0   \n",
      "\n",
      "   SchoolHoliday StoreType  ...    PromoInterval  Year  Month  Day  IsWeekend  \\\n",
      "0              1         c  ...              NaN  2015      7   31          0   \n",
      "1              1         a  ...  Jan,Apr,Jul,Oct  2015      7   31          0   \n",
      "2              1         a  ...  Jan,Apr,Jul,Oct  2015      7   31          0   \n",
      "3              1         c  ...              NaN  2015      7   31          0   \n",
      "4              1         a  ...              NaN  2015      7   31          0   \n",
      "\n",
      "   StoreType_enc  Assortment_enc StateHoliday_enc  Promo_StoreType  \\\n",
      "0              2               0                1                2   \n",
      "1              0               0                1                0   \n",
      "2              0               0                1                0   \n",
      "3              2               2                1                2   \n",
      "4              0               0                1                0   \n",
      "\n",
      "   Competition_Promo  \n",
      "0             1270.0  \n",
      "1              570.0  \n",
      "2            14130.0  \n",
      "3              620.0  \n",
      "4            29910.0  \n",
      "\n",
      "[5 rows x 27 columns]\n"
     ]
    }
   ],
   "source": [
    "import pandas as pd\n",
    "\n",
    "# Load data train dan store\n",
    "train = pd.read_csv('data/train.csv', parse_dates=['Date'])\n",
    "store = pd.read_csv('data/store.csv')\n",
    "\n",
    "# Merge data\n",
    "df = pd.merge(train, store, on='Store')\n",
    "\n",
    "# 1. Create temporal features\n",
    "df['Year'] = df['Date'].dt.year\n",
    "df['Month'] = df['Date'].dt.month\n",
    "df['Day'] = df['Date'].dt.day\n",
    "df['DayOfWeek'] = df['Date'].dt.dayofweek\n",
    "df['IsWeekend'] = df['DayOfWeek'].isin([5,6]).astype(int)\n",
    "\n",
    "# 2. Handle categorical variables\n",
    "df['StoreType_enc'] = df['StoreType'].astype('category').cat.codes\n",
    "df['Assortment_enc'] = df['Assortment'].astype('category').cat.codes\n",
    "df['StateHoliday_enc'] = df['StateHoliday'].astype('category').cat.codes\n",
    "\n",
    "# 3. Create interaction features\n",
    "df['Promo_StoreType'] = df['Promo'] * df['StoreType_enc']\n",
    "df['Competition_Promo'] = df['CompetitionDistance'] * df['Promo']\n",
    "\n",
    "# Cek hasil feature engineering\n",
    "print(df.head())"
   ]
  },
  {
   "cell_type": "markdown",
   "id": "73910dca-4c4a-4f94-8e37-6d85cb3260b3",
   "metadata": {},
   "source": [
    "2. Create temporal features \n",
    "  Ekstraksi fitur waktu dari kolom `Date`, seperti `Year`, `Month`, `Day`, dan `DayOfWeek`. Fitur ini membantu model memahami pola musiman, tren mingguan, serta efek hari libur terhadap penjualan.\n"
   ]
  },
  {
   "cell_type": "code",
   "execution_count": 5,
   "id": "668497d5-934e-4661-937a-254d13c0576b",
   "metadata": {},
   "outputs": [
    {
     "name": "stdout",
     "output_type": "stream",
     "text": [
      "        Date  Year  Month  Day  DayOfWeek  IsWeekend\n",
      "0 2015-07-31  2015      7   31          4          0\n",
      "1 2015-07-31  2015      7   31          4          0\n",
      "2 2015-07-31  2015      7   31          4          0\n",
      "3 2015-07-31  2015      7   31          4          0\n",
      "4 2015-07-31  2015      7   31          4          0\n"
     ]
    }
   ],
   "source": [
    "df['Year'] = df['Date'].dt.year\n",
    "df['Month'] = df['Date'].dt.month\n",
    "df['Day'] = df['Date'].dt.day\n",
    "df['DayOfWeek'] = df['Date'].dt.dayofweek\n",
    "df['IsWeekend'] = df['DayOfWeek'].isin([5,6]).astype(int)\n",
    "\n",
    "print(df[['Date', 'Year', 'Month', 'Day', 'DayOfWeek', 'IsWeekend']].head())"
   ]
  },
  {
   "cell_type": "markdown",
   "id": "918b5844-9dbe-44a7-b398-79f7d6240d54",
   "metadata": {},
   "source": [
    "Fitur-fitur ini membantu model memahami pengaruh waktu terhadap penjualan, seperti efek musim, hari libur, dan pola mingguan."
   ]
  },
  {
   "cell_type": "markdown",
   "id": "ea2d0e85-aea1-4dfb-b251-ba914e28eb3d",
   "metadata": {},
   "source": [
    "3. Handle categorical variables\n",
    "Mengubah fitur kategori menjadi bentuk numerik agar bisa diproses oleh algoritma machine learning."
   ]
  },
  {
   "cell_type": "code",
   "execution_count": 6,
   "id": "8ed30d6f-527f-481b-81bd-3f734549b99f",
   "metadata": {},
   "outputs": [
    {
     "name": "stdout",
     "output_type": "stream",
     "text": [
      "  StoreType  StoreType_enc Assortment  Assortment_enc StateHoliday  \\\n",
      "0         c              2          a               0            0   \n",
      "1         a              0          a               0            0   \n",
      "2         a              0          a               0            0   \n",
      "3         c              2          c               2            0   \n",
      "4         a              0          a               0            0   \n",
      "\n",
      "   StateHoliday_enc  \n",
      "0                 1  \n",
      "1                 1  \n",
      "2                 1  \n",
      "3                 1  \n",
      "4                 1  \n"
     ]
    }
   ],
   "source": [
    "df['StoreType_enc'] = df['StoreType'].astype('category').cat.codes\n",
    "df['Assortment_enc'] = df['Assortment'].astype('category').cat.codes\n",
    "df['StateHoliday_enc'] = df['StateHoliday'].astype('category').cat.codes\n",
    "\n",
    "print(df[['StoreType', 'StoreType_enc', 'Assortment', 'Assortment_enc', 'StateHoliday', 'StateHoliday_enc']].head())"
   ]
  },
  {
   "cell_type": "markdown",
   "id": "8aaea843-9947-48d1-9e1f-158e0e44ffb7",
   "metadata": {},
   "source": [
    "Encoding fitur kategori seperti StoreType, Assortment, dan StateHoliday ke bentuk numerik agar model dapat memanfaatkan informasi kategori dengan optimal."
   ]
  },
  {
   "cell_type": "markdown",
   "id": "577afe21-c06c-4ac7-9ebc-64a6a3a229dd",
   "metadata": {},
   "source": [
    "3. Create interaction features\n",
    "Membuat fitur baru dari hasil interaksi antara dua atau lebih variabel, agar model dapat menangkap hubungan kompleks antar fitur."
   ]
  },
  {
   "cell_type": "code",
   "execution_count": 7,
   "id": "90378dac-3a10-4622-a63d-9a11937a3487",
   "metadata": {},
   "outputs": [
    {
     "name": "stdout",
     "output_type": "stream",
     "text": [
      "   Promo  StoreType_enc  Promo_StoreType  CompetitionDistance  \\\n",
      "0      1              2                2               1270.0   \n",
      "1      1              0                0                570.0   \n",
      "2      1              0                0              14130.0   \n",
      "3      1              2                2                620.0   \n",
      "4      1              0                0              29910.0   \n",
      "\n",
      "   Competition_Promo  \n",
      "0             1270.0  \n",
      "1              570.0  \n",
      "2            14130.0  \n",
      "3              620.0  \n",
      "4            29910.0  \n"
     ]
    }
   ],
   "source": [
    "df['Promo_StoreType'] = df['Promo'] * df['StoreType_enc']\n",
    "df['Competition_Promo'] = df['CompetitionDistance'] * df['Promo']\n",
    "\n",
    "print(df[['Promo', 'StoreType_enc', 'Promo_StoreType', 'CompetitionDistance', 'Competition_Promo']].head())"
   ]
  },
  {
   "cell_type": "markdown",
   "id": "f3769238-7f42-47ee-9f12-391e2cdb7f34",
   "metadata": {},
   "source": [
    "Fitur interaksi seperti Promo_StoreType dan Competition_Promo membantu model memahami efek gabungan antara promo, tipe toko, dan kompetisi terhadap penjualan."
   ]
  },
  {
   "cell_type": "markdown",
   "id": "d66a1a20-938d-4f0c-9e67-878a942f6619",
   "metadata": {},
   "source": [
    "3. Feature selection\n",
    "Menghapus fitur yang tidak relevan atau tidak tersedia di data test agar model lebih efisien dan akurat."
   ]
  },
  {
   "cell_type": "code",
   "execution_count": 8,
   "id": "60a1772d-be12-4d12-9959-8cfd339eb0c2",
   "metadata": {},
   "outputs": [
    {
     "name": "stdout",
     "output_type": "stream",
     "text": [
      "   Store  DayOfWeek       Date  Sales  Open  Promo StateHoliday  \\\n",
      "0      1          4 2015-07-31   5263     1      1            0   \n",
      "1      2          4 2015-07-31   6064     1      1            0   \n",
      "2      3          4 2015-07-31   8314     1      1            0   \n",
      "3      4          4 2015-07-31  13995     1      1            0   \n",
      "4      5          4 2015-07-31   4822     1      1            0   \n",
      "\n",
      "   SchoolHoliday StoreType Assortment  ...    PromoInterval  Year  Month  Day  \\\n",
      "0              1         c          a  ...              NaN  2015      7   31   \n",
      "1              1         a          a  ...  Jan,Apr,Jul,Oct  2015      7   31   \n",
      "2              1         a          a  ...  Jan,Apr,Jul,Oct  2015      7   31   \n",
      "3              1         c          c  ...              NaN  2015      7   31   \n",
      "4              1         a          a  ...              NaN  2015      7   31   \n",
      "\n",
      "   IsWeekend  StoreType_enc Assortment_enc  StateHoliday_enc  Promo_StoreType  \\\n",
      "0          0              2              0                 1                2   \n",
      "1          0              0              0                 1                0   \n",
      "2          0              0              0                 1                0   \n",
      "3          0              2              2                 1                2   \n",
      "4          0              0              0                 1                0   \n",
      "\n",
      "   Competition_Promo  \n",
      "0             1270.0  \n",
      "1              570.0  \n",
      "2            14130.0  \n",
      "3              620.0  \n",
      "4            29910.0  \n",
      "\n",
      "[5 rows x 26 columns]\n"
     ]
    }
   ],
   "source": [
    "drop_cols = ['Customers']  # misal Customers tidak tersedia di test set\n",
    "df = df.drop(columns=drop_cols, errors='ignore')\n",
    "\n",
    "print(df.head())"
   ]
  },
  {
   "cell_type": "markdown",
   "id": "fcb39a14-5625-4278-8199-96bcfc613e06",
   "metadata": {},
   "source": [
    "Seleksi fitur dilakukan untuk mengurangi noise dan memastikan hanya fitur yang relevan dan tersedia di data test yang digunakan untuk modeling."
   ]
  },
  {
   "cell_type": "markdown",
   "id": "820d4659-fa32-4965-b340-5ddf88b27320",
   "metadata": {},
   "source": [
    "Phase 3: Model Development"
   ]
  },
  {
   "cell_type": "markdown",
   "id": "87a7d908-a6b9-4a15-9559-d4a1ec51b64c",
   "metadata": {},
   "source": [
    "1. Base line Model"
   ]
  },
  {
   "cell_type": "markdown",
   "id": "26302e8e-6f6c-4453-a17b-7a169e527b15",
   "metadata": {},
   "source": [
    "Baseline model menggunakan Linear Regression sebagai langkah awal untuk memprediksi penjualan toko. Model ini dipilih karena sederhana, mudah diinterpretasi, dan dapat memberikan gambaran awal performa prediksi sebelum menggunakan model yang lebih kompleks.\n",
    "\n",
    "Pada tahap ini, fitur-fitur utama seperti informasi waktu, kategori toko, promosi, dan interaksi antar fitur digunakan sebagai input model. Data dengan nilai penjualan (Sales) nol dihapus dari data training dan validasi untuk menghindari error pada perhitungan RMSPE."
   ]
  },
  {
   "cell_type": "code",
   "execution_count": 12,
   "id": "9339c59c",
   "metadata": {},
   "outputs": [
    {
     "name": "stdout",
     "output_type": "stream",
     "text": [
      "Baseline Linear Regression RMSPE: 0.6193151323926683\n",
      "Contoh prediksi: [5538.04912715 8853.47659488 8701.95536672 7746.08592003 5997.09544698]\n"
     ]
    }
   ],
   "source": [
    "from sklearn.linear_model import LinearRegression\n",
    "from sklearn.model_selection import train_test_split\n",
    "import numpy as np\n",
    "\n",
    "# Pilih fitur dan target\n",
    "features = [\n",
    "    'Store', 'DayOfWeek', 'Promo', 'SchoolHoliday', 'Year', 'Month', 'Day', 'DayOfWeek',\n",
    "    'IsWeekend', 'StoreType_enc', 'Assortment_enc', 'StateHoliday_enc',\n",
    "    'Promo_StoreType', 'Competition_Promo'\n",
    "]\n",
    "\n",
    "# Drop baris yang mengandung NaN pada fitur yang digunakan dan Sales=0\n",
    "Xy = df[features + ['Sales']].dropna()\n",
    "Xy = Xy[Xy['Sales'] != 0]  # Hapus baris dengan Sales=0 agar RMSPE tidak inf\n",
    "X = Xy[features]\n",
    "y = Xy['Sales']\n",
    "\n",
    "# Split data\n",
    "X_train, X_val, y_train, y_val = train_test_split(X, y, test_size=0.2, random_state=42)\n",
    "\n",
    "# Baseline model\n",
    "lr = LinearRegression()\n",
    "lr.fit(X_train, y_train)\n",
    "y_pred = lr.predict(X_val)\n",
    "\n",
    "# RMSPE metric (abaikan Sales=0)\n",
    "def rmspe(y_true, y_pred):\n",
    "    mask = y_true != 0\n",
    "    return np.sqrt(np.mean(np.square((y_true[mask] - y_pred[mask]) / y_true[mask])))\n",
    "\n",
    "score = rmspe(y_val, y_pred)\n",
    "print(\"Baseline Linear Regression RMSPE:\", score)\n",
    "\n",
    "# (Opsional) Lihat contoh prediksi\n",
    "print(\"Contoh prediksi:\", y_pred[:5])"
   ]
  },
  {
   "cell_type": "markdown",
   "id": "d96c95aa-8390-4a87-8cfa-bef2767bce22",
   "metadata": {},
   "source": [
    "- RMSPE (Root Mean Square Percentage Error) sebesar 0.619 menunjukkan rata-rata persentase error prediksi model terhadap data validasi. Nilai ini menjadi acuan awal (benchmark) untuk membandingkan model-model berikutnya.\n",
    "  \n",
    "- Contoh prediksi menampilkan hasil prediksi penjualan pada beberapa sampel data validasi. Nilai-nilai ini dapat dibandingkan dengan nilai aktual untuk melihat seberapa dekat hasil prediksi baseline terhadap kenyataan.\n"
   ]
  },
  {
   "cell_type": "markdown",
   "id": "f0788833-9d05-41a7-8e8b-fcde996b810c",
   "metadata": {},
   "source": [
    "2. Hyperparameter Tuning"
   ]
  },
  {
   "cell_type": "markdown",
   "id": "236b422c-5980-40c9-9225-e150ea51170a",
   "metadata": {},
   "source": [
    "Pada tahap ini, dilakukan pencarian kombinasi parameter terbaik untuk model menggunakan teknik seperti Grid Search atau Randomized Search. Hyperparameter tuning bertujuan untuk meningkatkan performa model dengan mengoptimalkan parameter seperti jumlah pohon, kedalaman pohon, dan learning rate pada model Random Forest atau XGBoost."
   ]
  },
  {
   "cell_type": "code",
   "execution_count": 17,
   "id": "faca688b-ebad-4d1b-80e3-30e83962801f",
   "metadata": {},
   "outputs": [
    {
     "name": "stdout",
     "output_type": "stream",
     "text": [
      "Mulai tuning...\n",
      "Fitting 3 folds for each of 5 candidates, totalling 15 fits\n",
      "Tuning selesai!\n",
      "Best Params: {'n_estimators': 100, 'max_depth': 10, 'learning_rate': 0.2}\n",
      "Best Score (neg RMSE): -1322.6325276692708\n"
     ]
    }
   ],
   "source": [
    "import xgboost as xgb\n",
    "from sklearn.model_selection import RandomizedSearchCV\n",
    "\n",
    "# Inisialisasi model XGBoost dengan GPU\n",
    "xgb_model = xgb.XGBRegressor(\n",
    "    tree_method='hist',\n",
    "    device='cuda',\n",
    "    random_state=42\n",
    ")\n",
    "# Definisikan parameter grid\n",
    "param_dist = {\n",
    "    'n_estimators': [100, 200, 300],\n",
    "    'max_depth': [5, 10, 20],\n",
    "    'learning_rate': [0.01, 0.1, 0.2]\n",
    "}\n",
    "\n",
    "# Randomized Search dengan 3-fold cross-validation\n",
    "random_search = RandomizedSearchCV(\n",
    "    xgb_model,\n",
    "    param_distributions=param_dist,\n",
    "    n_iter=5,\n",
    "    scoring='neg_root_mean_squared_error',\n",
    "    cv=3,\n",
    "    random_state=42,\n",
    "    n_jobs=-1,\n",
    "    verbose=2\n",
    ")\n",
    "\n",
    "print(\"Mulai tuning...\")\n",
    "random_search.fit(X_train, y_train)\n",
    "print(\"Tuning selesai!\")\n",
    "print(\"Best Params:\", random_search.best_params_)\n",
    "print(\"Best Score (neg RMSE):\", random_search.best_score_)"
   ]
  },
  {
   "cell_type": "markdown",
   "id": "2bcd32ba-3b84-455f-aee6-7f9590f82cb3",
   "metadata": {},
   "source": [
    "- Warning:\n",
    "XGBoost memberi tahu bahwa mulai versi 2.0.0, penggunaan tree_method='gpu_hist' sudah deprecated (tidak direkomendasikan lagi). Untuk training di GPU, sebaiknya gunakan tree_method='hist' dan tambahkan device='cuda'.\n",
    "Warning lain menyebutkan bahwa parameter predictor sudah tidak digunakan dan bisa dihapus dari inisialisasi model.\n",
    "\n",
    "- Tuning selesai!\n",
    "Proses hyperparameter tuning berhasil dijalankan.\n",
    "\n",
    "- Best Params: Menampilkan kombinasi parameter terbaik hasil tuning, yaitu:\n",
    "n_estimators: 100\n",
    "max_depth: 10\n",
    "learning_rate: 0.2\n",
    "Best Score (neg RMSE): Nilai negative root mean squared error terbaik pada validasi silang, yaitu -1322.63. Nilai ini bisa dibandingkan dengan model lain untuk memilih model terbaik.\n",
    " "
   ]
  },
  {
   "cell_type": "markdown",
   "id": "8cd080fe-ae27-4aa0-bc0e-456ec01fbfdc",
   "metadata": {},
   "source": [
    "3. Cross-validation"
   ]
  },
  {
   "cell_type": "markdown",
   "id": "a1277448-f096-4534-b58b-b232079023b6",
   "metadata": {},
   "source": [
    "Cross-validation digunakan untuk mengevaluasi performa model secara lebih robust dengan membagi data menjadi beberapa fold. Teknik ini membantu memastikan model tidak overfitting dan hasil evaluasi lebih representatif."
   ]
  },
  {
   "cell_type": "code",
   "execution_count": 18,
   "id": "54c89678-8b73-418c-a570-09673d4d6df5",
   "metadata": {},
   "outputs": [
    {
     "name": "stdout",
     "output_type": "stream",
     "text": [
      "Cross-validation RMSE per fold: [1503.16296387 1577.73303223 1427.38708496 1557.6081543  1502.62365723]\n",
      "Mean CV RMSE: 1513.702978515625\n"
     ]
    }
   ],
   "source": [
    "from sklearn.model_selection import cross_val_score\n",
    "import xgboost as xgb\n",
    "import numpy as np\n",
    "\n",
    "# Inisialisasi model dengan parameter terbaik hasil tuning\n",
    "best_params = random_search.best_params_\n",
    "xgb_model = xgb.XGBRegressor(\n",
    "    tree_method='hist',\n",
    "    device='cuda',\n",
    "    random_state=42,\n",
    "    **best_params\n",
    ")\n",
    "\n",
    "# Cross-validation 5-fold, scoring pakai neg_root_mean_squared_error\n",
    "scores = cross_val_score(\n",
    "    xgb_model,\n",
    "    X,\n",
    "    y,\n",
    "    cv=5,\n",
    "    scoring='neg_root_mean_squared_error',\n",
    "    n_jobs=-1\n",
    ")\n",
    "\n",
    "# Konversi ke RMSE positif\n",
    "rmse_scores = -scores\n",
    "print(\"Cross-validation RMSE per fold:\", rmse_scores)\n",
    "print(\"Mean CV RMSE:\", np.mean(rmse_scores))"
   ]
  },
  {
   "cell_type": "markdown",
   "id": "c958dd32-e537-40b6-b86c-37aedbe70895",
   "metadata": {},
   "source": [
    "- Model dievaluasi pada 5 fold berbeda, sehingga hasil lebih stabil.\n",
    "- Nilai RMSE rata-rata dari cross-validation digunakan untuk membandingkan performa antar model.\n"
   ]
  },
  {
   "cell_type": "markdown",
   "id": "c80562b9-3bab-4f0b-9c69-94c7f14ba537",
   "metadata": {},
   "source": [
    "4. Model Comparison"
   ]
  },
  {
   "cell_type": "markdown",
   "id": "f47d132f-bbf3-49b1-9574-b867718e8a3f",
   "metadata": {},
   "source": [
    "Model comparison dilakukan untuk membandingkan performa beberapa algoritma (misal: Linear Regression, Random Forest, XGBoost) menggunakan metrik yang sama, seperti RMSE atau RMSPE. Tujuannya adalah memilih model dengan performa terbaik untuk prediksi penjualan."
   ]
  },
  {
   "cell_type": "code",
   "execution_count": 21,
   "id": "113d5d66-b022-461b-8ddf-1be56d21206a",
   "metadata": {},
   "outputs": [
    {
     "name": "stdout",
     "output_type": "stream",
     "text": [
      "Linear Regression Mean CV RMSE: 2840.0480\n",
      "Random Forest Mean CV RMSE: 2510.0974\n",
      "XGBoost Mean CV RMSE: 1513.7030\n",
      "\n",
      "Model Comparison (Mean CV RMSE):\n",
      "Linear Regression: 2840.0480\n",
      "Random Forest: 2510.0974\n",
      "XGBoost: 1513.7030\n"
     ]
    }
   ],
   "source": [
    "from sklearn.linear_model import LinearRegression\n",
    "from sklearn.ensemble import RandomForestRegressor\n",
    "import xgboost as xgb\n",
    "from sklearn.model_selection import cross_val_score\n",
    "import numpy as np\n",
    "\n",
    "# Misal: param hasil tuning RandomForest dan XGBoost\n",
    "rf_best_params = {'n_estimators': 100, 'max_depth': 10, 'min_samples_split': 2}  # contoh, sesuaikan hasil tuning RF\n",
    "xgb_best_params = {'n_estimators': 100, 'max_depth': 10, 'learning_rate': 0.2}   # dari random_search.best_params_\n",
    "\n",
    "models = {\n",
    "    \"Linear Regression\": LinearRegression(),\n",
    "    \"Random Forest\": RandomForestRegressor(**rf_best_params, random_state=42),\n",
    "    \"XGBoost\": xgb.XGBRegressor(tree_method='hist', device='cuda', random_state=42, **xgb_best_params)\n",
    "}\n",
    "\n",
    "results = {}\n",
    "for name, model in models.items():\n",
    "    scores = cross_val_score(\n",
    "        model, X, y, cv=5, scoring='neg_root_mean_squared_error', n_jobs=-1\n",
    "    )\n",
    "    rmse_scores = -scores\n",
    "    results[name] = np.mean(rmse_scores)\n",
    "    print(f\"{name} Mean CV RMSE: {np.mean(rmse_scores):.4f}\")\n",
    "\n",
    "print(\"\\nModel Comparison (Mean CV RMSE):\")\n",
    "for name, score in results.items():\n",
    "    print(f\"{name}: {score:.4f}\")"
   ]
  },
  {
   "cell_type": "markdown",
   "id": "e45a9f5d-1a46-4f45-8b74-2b5ded310cd6",
   "metadata": {},
   "source": [
    "-Linear Regression Mean CV RMSE: 2840.0480\n",
    "Model linear sederhana menghasilkan rata-rata error prediksi (RMSE) sebesar 2840 pada validasi silang.\n",
    "\n",
    "-Random Forest Mean CV RMSE: 2510.0974\n",
    "Model Random Forest, setelah tuning, menghasilkan error yang lebih rendah dibanding Linear Regression, yaitu 2510.\n",
    "\n",
    "-XGBoost Mean CV RMSE: 1513.7030\n",
    "Model XGBoost dengan tuning dan GPU menghasilkan error terendah, yaitu 1513, menandakan performa prediksi terbaik di antara ketiga model."
   ]
  },
  {
   "cell_type": "code",
   "execution_count": 23,
   "id": "22401ce2-ce40-442b-86ac-e88e52f70b02",
   "metadata": {},
   "outputs": [
    {
     "name": "stdout",
     "output_type": "stream",
     "text": [
      "Model XGBoost dengan parameter terbaik telah dipilih dan dilatih pada seluruh data training.\n",
      "Parameter model: {'objective': 'reg:squarederror', 'base_score': None, 'booster': None, 'callbacks': None, 'colsample_bylevel': None, 'colsample_bynode': None, 'colsample_bytree': None, 'device': 'cuda', 'early_stopping_rounds': None, 'enable_categorical': False, 'eval_metric': None, 'feature_types': None, 'feature_weights': None, 'gamma': None, 'grow_policy': None, 'importance_type': None, 'interaction_constraints': None, 'learning_rate': 0.2, 'max_bin': None, 'max_cat_threshold': None, 'max_cat_to_onehot': None, 'max_delta_step': None, 'max_depth': 10, 'max_leaves': None, 'min_child_weight': None, 'missing': nan, 'monotone_constraints': None, 'multi_strategy': None, 'n_estimators': 100, 'n_jobs': None, 'num_parallel_tree': None, 'random_state': 42, 'reg_alpha': None, 'reg_lambda': None, 'sampling_method': None, 'scale_pos_weight': None, 'subsample': None, 'tree_method': 'hist', 'validate_parameters': None, 'verbosity': None}\n"
     ]
    }
   ],
   "source": [
    "# Pilih model terbaik berdasarkan hasil model comparison (XGBoost)\n",
    "import xgboost as xgb\n",
    "\n",
    "# Inisialisasi model XGBoost dengan parameter terbaik hasil tuning\n",
    "final_model = xgb.XGBRegressor(\n",
    "    tree_method='hist',\n",
    "    device='cuda',\n",
    "    random_state=42,\n",
    "    **xgb_best_params  # gunakan parameter hasil tuning XGBoost\n",
    ")\n",
    "\n",
    "# Training ulang model pada seluruh data training\n",
    "final_model.fit(X, y)\n",
    "\n",
    "print(\"Model XGBoost dengan parameter terbaik telah dipilih dan dilatih pada seluruh data training.\")\n",
    "print(\"Parameter model:\", final_model.get_params())"
   ]
  },
  {
   "cell_type": "code",
   "execution_count": null,
   "id": "cc884fd4-b79f-4ba6-8943-a3e4855bdca3",
   "metadata": {},
   "outputs": [],
   "source": []
  }
 ],
 "metadata": {
  "kernelspec": {
   "display_name": "Python 3 (ipykernel)",
   "language": "python",
   "name": "python3"
  },
  "language_info": {
   "codemirror_mode": {
    "name": "ipython",
    "version": 3
   },
   "file_extension": ".py",
   "mimetype": "text/x-python",
   "name": "python",
   "nbconvert_exporter": "python",
   "pygments_lexer": "ipython3",
   "version": "3.12.8"
  }
 },
 "nbformat": 4,
 "nbformat_minor": 5
}
